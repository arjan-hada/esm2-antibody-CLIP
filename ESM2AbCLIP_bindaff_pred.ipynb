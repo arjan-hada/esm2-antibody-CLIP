{
  "nbformat": 4,
  "nbformat_minor": 0,
  "metadata": {
    "colab": {
      "provenance": [],
      "collapsed_sections": [
        "yaQlMhTs7Pi3",
        "ZnwqlOc6vgoG"
      ],
      "machine_shape": "hm",
      "gpuType": "L4",
      "toc_visible": true,
      "authorship_tag": "ABX9TyPLN2JrVjZ+6d4A+xtpkcj7",
      "include_colab_link": true
    },
    "kernelspec": {
      "name": "python3",
      "display_name": "Python 3"
    },
    "language_info": {
      "name": "python"
    },
    "accelerator": "GPU",
    "widgets": {
      "application/vnd.jupyter.widget-state+json": {
        "e465db22b9a74c2dada9e4617314b50a": {
          "model_module": "@jupyter-widgets/controls",
          "model_name": "VBoxModel",
          "model_module_version": "1.5.0",
          "state": {
            "_dom_classes": [],
            "_model_module": "@jupyter-widgets/controls",
            "_model_module_version": "1.5.0",
            "_model_name": "VBoxModel",
            "_view_count": null,
            "_view_module": "@jupyter-widgets/controls",
            "_view_module_version": "1.5.0",
            "_view_name": "VBoxView",
            "box_style": "",
            "children": [
              "IPY_MODEL_66fc2eecd42845d9ba514a19fb9806c0",
              "IPY_MODEL_50cd9860924744e0b41c2eea2838a7e1",
              "IPY_MODEL_d1df21db2bfd48bfbb6717dade688ba4",
              "IPY_MODEL_daec41ec209349b2a06a9e4a3e22b676"
            ],
            "layout": "IPY_MODEL_bc089226d11c4459a77676d787f26f2d"
          }
        },
        "356789502ac54e84921ea6c1aba24529": {
          "model_module": "@jupyter-widgets/controls",
          "model_name": "HTMLModel",
          "model_module_version": "1.5.0",
          "state": {
            "_dom_classes": [],
            "_model_module": "@jupyter-widgets/controls",
            "_model_module_version": "1.5.0",
            "_model_name": "HTMLModel",
            "_view_count": null,
            "_view_module": "@jupyter-widgets/controls",
            "_view_module_version": "1.5.0",
            "_view_name": "HTMLView",
            "description": "",
            "description_tooltip": null,
            "layout": "IPY_MODEL_3984f06652d145c7a7a72d5561949a06",
            "placeholder": "​",
            "style": "IPY_MODEL_9954e792d7eb40f99c1af252da3b9810",
            "value": "<center> <img\nsrc=https://huggingface.co/front/assets/huggingface_logo-noborder.svg\nalt='Hugging Face'> <br> Copy a token from <a\nhref=\"https://huggingface.co/settings/tokens\" target=\"_blank\">your Hugging Face\ntokens page</a> and paste it below. <br> Immediately click login after copying\nyour token or it might be stored in plain text in this notebook file. </center>"
          }
        },
        "a633a0eaaf5e498aa61c8da5b0d2ed92": {
          "model_module": "@jupyter-widgets/controls",
          "model_name": "PasswordModel",
          "model_module_version": "1.5.0",
          "state": {
            "_dom_classes": [],
            "_model_module": "@jupyter-widgets/controls",
            "_model_module_version": "1.5.0",
            "_model_name": "PasswordModel",
            "_view_count": null,
            "_view_module": "@jupyter-widgets/controls",
            "_view_module_version": "1.5.0",
            "_view_name": "PasswordView",
            "continuous_update": true,
            "description": "Token:",
            "description_tooltip": null,
            "disabled": false,
            "layout": "IPY_MODEL_16c5112c6e1041ed9e1bf47983f8426b",
            "placeholder": "​",
            "style": "IPY_MODEL_d2ca147cc4de4f4abbad66de1087cf59",
            "value": ""
          }
        },
        "7694a19a47e443cdba010af33db1b91b": {
          "model_module": "@jupyter-widgets/controls",
          "model_name": "CheckboxModel",
          "model_module_version": "1.5.0",
          "state": {
            "_dom_classes": [],
            "_model_module": "@jupyter-widgets/controls",
            "_model_module_version": "1.5.0",
            "_model_name": "CheckboxModel",
            "_view_count": null,
            "_view_module": "@jupyter-widgets/controls",
            "_view_module_version": "1.5.0",
            "_view_name": "CheckboxView",
            "description": "Add token as git credential?",
            "description_tooltip": null,
            "disabled": false,
            "indent": true,
            "layout": "IPY_MODEL_a5b9af0a2f2340e38ef2aa6519372319",
            "style": "IPY_MODEL_5967b29915b74ef4b04bbb1680a3d1d3",
            "value": true
          }
        },
        "dea950a070724d3cadd225f25996cf0a": {
          "model_module": "@jupyter-widgets/controls",
          "model_name": "ButtonModel",
          "model_module_version": "1.5.0",
          "state": {
            "_dom_classes": [],
            "_model_module": "@jupyter-widgets/controls",
            "_model_module_version": "1.5.0",
            "_model_name": "ButtonModel",
            "_view_count": null,
            "_view_module": "@jupyter-widgets/controls",
            "_view_module_version": "1.5.0",
            "_view_name": "ButtonView",
            "button_style": "",
            "description": "Login",
            "disabled": false,
            "icon": "",
            "layout": "IPY_MODEL_c5b97dad40944f6ab745222e0a8899a5",
            "style": "IPY_MODEL_3c3b1bfdcb9e4e21ab0b75a0307d40b0",
            "tooltip": ""
          }
        },
        "67ae70e736284390b5d0b48a9a4cc6fa": {
          "model_module": "@jupyter-widgets/controls",
          "model_name": "HTMLModel",
          "model_module_version": "1.5.0",
          "state": {
            "_dom_classes": [],
            "_model_module": "@jupyter-widgets/controls",
            "_model_module_version": "1.5.0",
            "_model_name": "HTMLModel",
            "_view_count": null,
            "_view_module": "@jupyter-widgets/controls",
            "_view_module_version": "1.5.0",
            "_view_name": "HTMLView",
            "description": "",
            "description_tooltip": null,
            "layout": "IPY_MODEL_14b777ba1672437abcec899fe9bb3d3c",
            "placeholder": "​",
            "style": "IPY_MODEL_a119038c5f694b83a829d5c64d1e7e9c",
            "value": "\n<b>Pro Tip:</b> If you don't already have one, you can create a dedicated\n'notebooks' token with 'write' access, that you can then easily reuse for all\nnotebooks. </center>"
          }
        },
        "bc089226d11c4459a77676d787f26f2d": {
          "model_module": "@jupyter-widgets/base",
          "model_name": "LayoutModel",
          "model_module_version": "1.2.0",
          "state": {
            "_model_module": "@jupyter-widgets/base",
            "_model_module_version": "1.2.0",
            "_model_name": "LayoutModel",
            "_view_count": null,
            "_view_module": "@jupyter-widgets/base",
            "_view_module_version": "1.2.0",
            "_view_name": "LayoutView",
            "align_content": null,
            "align_items": "center",
            "align_self": null,
            "border": null,
            "bottom": null,
            "display": "flex",
            "flex": null,
            "flex_flow": "column",
            "grid_area": null,
            "grid_auto_columns": null,
            "grid_auto_flow": null,
            "grid_auto_rows": null,
            "grid_column": null,
            "grid_gap": null,
            "grid_row": null,
            "grid_template_areas": null,
            "grid_template_columns": null,
            "grid_template_rows": null,
            "height": null,
            "justify_content": null,
            "justify_items": null,
            "left": null,
            "margin": null,
            "max_height": null,
            "max_width": null,
            "min_height": null,
            "min_width": null,
            "object_fit": null,
            "object_position": null,
            "order": null,
            "overflow": null,
            "overflow_x": null,
            "overflow_y": null,
            "padding": null,
            "right": null,
            "top": null,
            "visibility": null,
            "width": "50%"
          }
        },
        "3984f06652d145c7a7a72d5561949a06": {
          "model_module": "@jupyter-widgets/base",
          "model_name": "LayoutModel",
          "model_module_version": "1.2.0",
          "state": {
            "_model_module": "@jupyter-widgets/base",
            "_model_module_version": "1.2.0",
            "_model_name": "LayoutModel",
            "_view_count": null,
            "_view_module": "@jupyter-widgets/base",
            "_view_module_version": "1.2.0",
            "_view_name": "LayoutView",
            "align_content": null,
            "align_items": null,
            "align_self": null,
            "border": null,
            "bottom": null,
            "display": null,
            "flex": null,
            "flex_flow": null,
            "grid_area": null,
            "grid_auto_columns": null,
            "grid_auto_flow": null,
            "grid_auto_rows": null,
            "grid_column": null,
            "grid_gap": null,
            "grid_row": null,
            "grid_template_areas": null,
            "grid_template_columns": null,
            "grid_template_rows": null,
            "height": null,
            "justify_content": null,
            "justify_items": null,
            "left": null,
            "margin": null,
            "max_height": null,
            "max_width": null,
            "min_height": null,
            "min_width": null,
            "object_fit": null,
            "object_position": null,
            "order": null,
            "overflow": null,
            "overflow_x": null,
            "overflow_y": null,
            "padding": null,
            "right": null,
            "top": null,
            "visibility": null,
            "width": null
          }
        },
        "9954e792d7eb40f99c1af252da3b9810": {
          "model_module": "@jupyter-widgets/controls",
          "model_name": "DescriptionStyleModel",
          "model_module_version": "1.5.0",
          "state": {
            "_model_module": "@jupyter-widgets/controls",
            "_model_module_version": "1.5.0",
            "_model_name": "DescriptionStyleModel",
            "_view_count": null,
            "_view_module": "@jupyter-widgets/base",
            "_view_module_version": "1.2.0",
            "_view_name": "StyleView",
            "description_width": ""
          }
        },
        "16c5112c6e1041ed9e1bf47983f8426b": {
          "model_module": "@jupyter-widgets/base",
          "model_name": "LayoutModel",
          "model_module_version": "1.2.0",
          "state": {
            "_model_module": "@jupyter-widgets/base",
            "_model_module_version": "1.2.0",
            "_model_name": "LayoutModel",
            "_view_count": null,
            "_view_module": "@jupyter-widgets/base",
            "_view_module_version": "1.2.0",
            "_view_name": "LayoutView",
            "align_content": null,
            "align_items": null,
            "align_self": null,
            "border": null,
            "bottom": null,
            "display": null,
            "flex": null,
            "flex_flow": null,
            "grid_area": null,
            "grid_auto_columns": null,
            "grid_auto_flow": null,
            "grid_auto_rows": null,
            "grid_column": null,
            "grid_gap": null,
            "grid_row": null,
            "grid_template_areas": null,
            "grid_template_columns": null,
            "grid_template_rows": null,
            "height": null,
            "justify_content": null,
            "justify_items": null,
            "left": null,
            "margin": null,
            "max_height": null,
            "max_width": null,
            "min_height": null,
            "min_width": null,
            "object_fit": null,
            "object_position": null,
            "order": null,
            "overflow": null,
            "overflow_x": null,
            "overflow_y": null,
            "padding": null,
            "right": null,
            "top": null,
            "visibility": null,
            "width": null
          }
        },
        "d2ca147cc4de4f4abbad66de1087cf59": {
          "model_module": "@jupyter-widgets/controls",
          "model_name": "DescriptionStyleModel",
          "model_module_version": "1.5.0",
          "state": {
            "_model_module": "@jupyter-widgets/controls",
            "_model_module_version": "1.5.0",
            "_model_name": "DescriptionStyleModel",
            "_view_count": null,
            "_view_module": "@jupyter-widgets/base",
            "_view_module_version": "1.2.0",
            "_view_name": "StyleView",
            "description_width": ""
          }
        },
        "a5b9af0a2f2340e38ef2aa6519372319": {
          "model_module": "@jupyter-widgets/base",
          "model_name": "LayoutModel",
          "model_module_version": "1.2.0",
          "state": {
            "_model_module": "@jupyter-widgets/base",
            "_model_module_version": "1.2.0",
            "_model_name": "LayoutModel",
            "_view_count": null,
            "_view_module": "@jupyter-widgets/base",
            "_view_module_version": "1.2.0",
            "_view_name": "LayoutView",
            "align_content": null,
            "align_items": null,
            "align_self": null,
            "border": null,
            "bottom": null,
            "display": null,
            "flex": null,
            "flex_flow": null,
            "grid_area": null,
            "grid_auto_columns": null,
            "grid_auto_flow": null,
            "grid_auto_rows": null,
            "grid_column": null,
            "grid_gap": null,
            "grid_row": null,
            "grid_template_areas": null,
            "grid_template_columns": null,
            "grid_template_rows": null,
            "height": null,
            "justify_content": null,
            "justify_items": null,
            "left": null,
            "margin": null,
            "max_height": null,
            "max_width": null,
            "min_height": null,
            "min_width": null,
            "object_fit": null,
            "object_position": null,
            "order": null,
            "overflow": null,
            "overflow_x": null,
            "overflow_y": null,
            "padding": null,
            "right": null,
            "top": null,
            "visibility": null,
            "width": null
          }
        },
        "5967b29915b74ef4b04bbb1680a3d1d3": {
          "model_module": "@jupyter-widgets/controls",
          "model_name": "DescriptionStyleModel",
          "model_module_version": "1.5.0",
          "state": {
            "_model_module": "@jupyter-widgets/controls",
            "_model_module_version": "1.5.0",
            "_model_name": "DescriptionStyleModel",
            "_view_count": null,
            "_view_module": "@jupyter-widgets/base",
            "_view_module_version": "1.2.0",
            "_view_name": "StyleView",
            "description_width": ""
          }
        },
        "c5b97dad40944f6ab745222e0a8899a5": {
          "model_module": "@jupyter-widgets/base",
          "model_name": "LayoutModel",
          "model_module_version": "1.2.0",
          "state": {
            "_model_module": "@jupyter-widgets/base",
            "_model_module_version": "1.2.0",
            "_model_name": "LayoutModel",
            "_view_count": null,
            "_view_module": "@jupyter-widgets/base",
            "_view_module_version": "1.2.0",
            "_view_name": "LayoutView",
            "align_content": null,
            "align_items": null,
            "align_self": null,
            "border": null,
            "bottom": null,
            "display": null,
            "flex": null,
            "flex_flow": null,
            "grid_area": null,
            "grid_auto_columns": null,
            "grid_auto_flow": null,
            "grid_auto_rows": null,
            "grid_column": null,
            "grid_gap": null,
            "grid_row": null,
            "grid_template_areas": null,
            "grid_template_columns": null,
            "grid_template_rows": null,
            "height": null,
            "justify_content": null,
            "justify_items": null,
            "left": null,
            "margin": null,
            "max_height": null,
            "max_width": null,
            "min_height": null,
            "min_width": null,
            "object_fit": null,
            "object_position": null,
            "order": null,
            "overflow": null,
            "overflow_x": null,
            "overflow_y": null,
            "padding": null,
            "right": null,
            "top": null,
            "visibility": null,
            "width": null
          }
        },
        "3c3b1bfdcb9e4e21ab0b75a0307d40b0": {
          "model_module": "@jupyter-widgets/controls",
          "model_name": "ButtonStyleModel",
          "model_module_version": "1.5.0",
          "state": {
            "_model_module": "@jupyter-widgets/controls",
            "_model_module_version": "1.5.0",
            "_model_name": "ButtonStyleModel",
            "_view_count": null,
            "_view_module": "@jupyter-widgets/base",
            "_view_module_version": "1.2.0",
            "_view_name": "StyleView",
            "button_color": null,
            "font_weight": ""
          }
        },
        "14b777ba1672437abcec899fe9bb3d3c": {
          "model_module": "@jupyter-widgets/base",
          "model_name": "LayoutModel",
          "model_module_version": "1.2.0",
          "state": {
            "_model_module": "@jupyter-widgets/base",
            "_model_module_version": "1.2.0",
            "_model_name": "LayoutModel",
            "_view_count": null,
            "_view_module": "@jupyter-widgets/base",
            "_view_module_version": "1.2.0",
            "_view_name": "LayoutView",
            "align_content": null,
            "align_items": null,
            "align_self": null,
            "border": null,
            "bottom": null,
            "display": null,
            "flex": null,
            "flex_flow": null,
            "grid_area": null,
            "grid_auto_columns": null,
            "grid_auto_flow": null,
            "grid_auto_rows": null,
            "grid_column": null,
            "grid_gap": null,
            "grid_row": null,
            "grid_template_areas": null,
            "grid_template_columns": null,
            "grid_template_rows": null,
            "height": null,
            "justify_content": null,
            "justify_items": null,
            "left": null,
            "margin": null,
            "max_height": null,
            "max_width": null,
            "min_height": null,
            "min_width": null,
            "object_fit": null,
            "object_position": null,
            "order": null,
            "overflow": null,
            "overflow_x": null,
            "overflow_y": null,
            "padding": null,
            "right": null,
            "top": null,
            "visibility": null,
            "width": null
          }
        },
        "a119038c5f694b83a829d5c64d1e7e9c": {
          "model_module": "@jupyter-widgets/controls",
          "model_name": "DescriptionStyleModel",
          "model_module_version": "1.5.0",
          "state": {
            "_model_module": "@jupyter-widgets/controls",
            "_model_module_version": "1.5.0",
            "_model_name": "DescriptionStyleModel",
            "_view_count": null,
            "_view_module": "@jupyter-widgets/base",
            "_view_module_version": "1.2.0",
            "_view_name": "StyleView",
            "description_width": ""
          }
        },
        "35668c00d5c242ba9ec98464ea4394b4": {
          "model_module": "@jupyter-widgets/controls",
          "model_name": "LabelModel",
          "model_module_version": "1.5.0",
          "state": {
            "_dom_classes": [],
            "_model_module": "@jupyter-widgets/controls",
            "_model_module_version": "1.5.0",
            "_model_name": "LabelModel",
            "_view_count": null,
            "_view_module": "@jupyter-widgets/controls",
            "_view_module_version": "1.5.0",
            "_view_name": "LabelView",
            "description": "",
            "description_tooltip": null,
            "layout": "IPY_MODEL_fed17a0063c7488dbca00cdc2c8c0a31",
            "placeholder": "​",
            "style": "IPY_MODEL_ebbe60fb2bb84b4294fc892045e9b24c",
            "value": "Connecting..."
          }
        },
        "fed17a0063c7488dbca00cdc2c8c0a31": {
          "model_module": "@jupyter-widgets/base",
          "model_name": "LayoutModel",
          "model_module_version": "1.2.0",
          "state": {
            "_model_module": "@jupyter-widgets/base",
            "_model_module_version": "1.2.0",
            "_model_name": "LayoutModel",
            "_view_count": null,
            "_view_module": "@jupyter-widgets/base",
            "_view_module_version": "1.2.0",
            "_view_name": "LayoutView",
            "align_content": null,
            "align_items": null,
            "align_self": null,
            "border": null,
            "bottom": null,
            "display": null,
            "flex": null,
            "flex_flow": null,
            "grid_area": null,
            "grid_auto_columns": null,
            "grid_auto_flow": null,
            "grid_auto_rows": null,
            "grid_column": null,
            "grid_gap": null,
            "grid_row": null,
            "grid_template_areas": null,
            "grid_template_columns": null,
            "grid_template_rows": null,
            "height": null,
            "justify_content": null,
            "justify_items": null,
            "left": null,
            "margin": null,
            "max_height": null,
            "max_width": null,
            "min_height": null,
            "min_width": null,
            "object_fit": null,
            "object_position": null,
            "order": null,
            "overflow": null,
            "overflow_x": null,
            "overflow_y": null,
            "padding": null,
            "right": null,
            "top": null,
            "visibility": null,
            "width": null
          }
        },
        "ebbe60fb2bb84b4294fc892045e9b24c": {
          "model_module": "@jupyter-widgets/controls",
          "model_name": "DescriptionStyleModel",
          "model_module_version": "1.5.0",
          "state": {
            "_model_module": "@jupyter-widgets/controls",
            "_model_module_version": "1.5.0",
            "_model_name": "DescriptionStyleModel",
            "_view_count": null,
            "_view_module": "@jupyter-widgets/base",
            "_view_module_version": "1.2.0",
            "_view_name": "StyleView",
            "description_width": ""
          }
        },
        "66fc2eecd42845d9ba514a19fb9806c0": {
          "model_module": "@jupyter-widgets/controls",
          "model_name": "LabelModel",
          "model_module_version": "1.5.0",
          "state": {
            "_dom_classes": [],
            "_model_module": "@jupyter-widgets/controls",
            "_model_module_version": "1.5.0",
            "_model_name": "LabelModel",
            "_view_count": null,
            "_view_module": "@jupyter-widgets/controls",
            "_view_module_version": "1.5.0",
            "_view_name": "LabelView",
            "description": "",
            "description_tooltip": null,
            "layout": "IPY_MODEL_63059d26ea82468cb617750c17cf7edf",
            "placeholder": "​",
            "style": "IPY_MODEL_f234aeff64934b739409e31c8bcddeae",
            "value": "Token is valid (permission: write)."
          }
        },
        "50cd9860924744e0b41c2eea2838a7e1": {
          "model_module": "@jupyter-widgets/controls",
          "model_name": "LabelModel",
          "model_module_version": "1.5.0",
          "state": {
            "_dom_classes": [],
            "_model_module": "@jupyter-widgets/controls",
            "_model_module_version": "1.5.0",
            "_model_name": "LabelModel",
            "_view_count": null,
            "_view_module": "@jupyter-widgets/controls",
            "_view_module_version": "1.5.0",
            "_view_name": "LabelView",
            "description": "",
            "description_tooltip": null,
            "layout": "IPY_MODEL_3d7f663ff7c445e48b2a8c009cd5db8a",
            "placeholder": "​",
            "style": "IPY_MODEL_1fa764893da94a1095436cb82ed20886",
            "value": "Your token has been saved in your configured git credential helpers (store)."
          }
        },
        "d1df21db2bfd48bfbb6717dade688ba4": {
          "model_module": "@jupyter-widgets/controls",
          "model_name": "LabelModel",
          "model_module_version": "1.5.0",
          "state": {
            "_dom_classes": [],
            "_model_module": "@jupyter-widgets/controls",
            "_model_module_version": "1.5.0",
            "_model_name": "LabelModel",
            "_view_count": null,
            "_view_module": "@jupyter-widgets/controls",
            "_view_module_version": "1.5.0",
            "_view_name": "LabelView",
            "description": "",
            "description_tooltip": null,
            "layout": "IPY_MODEL_6d77a51e896642a6976fd346176f51fa",
            "placeholder": "​",
            "style": "IPY_MODEL_a2414000078a42239f64003622f3d5e1",
            "value": "Your token has been saved to /root/.cache/huggingface/token"
          }
        },
        "daec41ec209349b2a06a9e4a3e22b676": {
          "model_module": "@jupyter-widgets/controls",
          "model_name": "LabelModel",
          "model_module_version": "1.5.0",
          "state": {
            "_dom_classes": [],
            "_model_module": "@jupyter-widgets/controls",
            "_model_module_version": "1.5.0",
            "_model_name": "LabelModel",
            "_view_count": null,
            "_view_module": "@jupyter-widgets/controls",
            "_view_module_version": "1.5.0",
            "_view_name": "LabelView",
            "description": "",
            "description_tooltip": null,
            "layout": "IPY_MODEL_16a0ce3ee43442d5865d579eb807ee90",
            "placeholder": "​",
            "style": "IPY_MODEL_a325ed5844cf4d82ace5970d9a8d035d",
            "value": "Login successful"
          }
        },
        "63059d26ea82468cb617750c17cf7edf": {
          "model_module": "@jupyter-widgets/base",
          "model_name": "LayoutModel",
          "model_module_version": "1.2.0",
          "state": {
            "_model_module": "@jupyter-widgets/base",
            "_model_module_version": "1.2.0",
            "_model_name": "LayoutModel",
            "_view_count": null,
            "_view_module": "@jupyter-widgets/base",
            "_view_module_version": "1.2.0",
            "_view_name": "LayoutView",
            "align_content": null,
            "align_items": null,
            "align_self": null,
            "border": null,
            "bottom": null,
            "display": null,
            "flex": null,
            "flex_flow": null,
            "grid_area": null,
            "grid_auto_columns": null,
            "grid_auto_flow": null,
            "grid_auto_rows": null,
            "grid_column": null,
            "grid_gap": null,
            "grid_row": null,
            "grid_template_areas": null,
            "grid_template_columns": null,
            "grid_template_rows": null,
            "height": null,
            "justify_content": null,
            "justify_items": null,
            "left": null,
            "margin": null,
            "max_height": null,
            "max_width": null,
            "min_height": null,
            "min_width": null,
            "object_fit": null,
            "object_position": null,
            "order": null,
            "overflow": null,
            "overflow_x": null,
            "overflow_y": null,
            "padding": null,
            "right": null,
            "top": null,
            "visibility": null,
            "width": null
          }
        },
        "f234aeff64934b739409e31c8bcddeae": {
          "model_module": "@jupyter-widgets/controls",
          "model_name": "DescriptionStyleModel",
          "model_module_version": "1.5.0",
          "state": {
            "_model_module": "@jupyter-widgets/controls",
            "_model_module_version": "1.5.0",
            "_model_name": "DescriptionStyleModel",
            "_view_count": null,
            "_view_module": "@jupyter-widgets/base",
            "_view_module_version": "1.2.0",
            "_view_name": "StyleView",
            "description_width": ""
          }
        },
        "3d7f663ff7c445e48b2a8c009cd5db8a": {
          "model_module": "@jupyter-widgets/base",
          "model_name": "LayoutModel",
          "model_module_version": "1.2.0",
          "state": {
            "_model_module": "@jupyter-widgets/base",
            "_model_module_version": "1.2.0",
            "_model_name": "LayoutModel",
            "_view_count": null,
            "_view_module": "@jupyter-widgets/base",
            "_view_module_version": "1.2.0",
            "_view_name": "LayoutView",
            "align_content": null,
            "align_items": null,
            "align_self": null,
            "border": null,
            "bottom": null,
            "display": null,
            "flex": null,
            "flex_flow": null,
            "grid_area": null,
            "grid_auto_columns": null,
            "grid_auto_flow": null,
            "grid_auto_rows": null,
            "grid_column": null,
            "grid_gap": null,
            "grid_row": null,
            "grid_template_areas": null,
            "grid_template_columns": null,
            "grid_template_rows": null,
            "height": null,
            "justify_content": null,
            "justify_items": null,
            "left": null,
            "margin": null,
            "max_height": null,
            "max_width": null,
            "min_height": null,
            "min_width": null,
            "object_fit": null,
            "object_position": null,
            "order": null,
            "overflow": null,
            "overflow_x": null,
            "overflow_y": null,
            "padding": null,
            "right": null,
            "top": null,
            "visibility": null,
            "width": null
          }
        },
        "1fa764893da94a1095436cb82ed20886": {
          "model_module": "@jupyter-widgets/controls",
          "model_name": "DescriptionStyleModel",
          "model_module_version": "1.5.0",
          "state": {
            "_model_module": "@jupyter-widgets/controls",
            "_model_module_version": "1.5.0",
            "_model_name": "DescriptionStyleModel",
            "_view_count": null,
            "_view_module": "@jupyter-widgets/base",
            "_view_module_version": "1.2.0",
            "_view_name": "StyleView",
            "description_width": ""
          }
        },
        "6d77a51e896642a6976fd346176f51fa": {
          "model_module": "@jupyter-widgets/base",
          "model_name": "LayoutModel",
          "model_module_version": "1.2.0",
          "state": {
            "_model_module": "@jupyter-widgets/base",
            "_model_module_version": "1.2.0",
            "_model_name": "LayoutModel",
            "_view_count": null,
            "_view_module": "@jupyter-widgets/base",
            "_view_module_version": "1.2.0",
            "_view_name": "LayoutView",
            "align_content": null,
            "align_items": null,
            "align_self": null,
            "border": null,
            "bottom": null,
            "display": null,
            "flex": null,
            "flex_flow": null,
            "grid_area": null,
            "grid_auto_columns": null,
            "grid_auto_flow": null,
            "grid_auto_rows": null,
            "grid_column": null,
            "grid_gap": null,
            "grid_row": null,
            "grid_template_areas": null,
            "grid_template_columns": null,
            "grid_template_rows": null,
            "height": null,
            "justify_content": null,
            "justify_items": null,
            "left": null,
            "margin": null,
            "max_height": null,
            "max_width": null,
            "min_height": null,
            "min_width": null,
            "object_fit": null,
            "object_position": null,
            "order": null,
            "overflow": null,
            "overflow_x": null,
            "overflow_y": null,
            "padding": null,
            "right": null,
            "top": null,
            "visibility": null,
            "width": null
          }
        },
        "a2414000078a42239f64003622f3d5e1": {
          "model_module": "@jupyter-widgets/controls",
          "model_name": "DescriptionStyleModel",
          "model_module_version": "1.5.0",
          "state": {
            "_model_module": "@jupyter-widgets/controls",
            "_model_module_version": "1.5.0",
            "_model_name": "DescriptionStyleModel",
            "_view_count": null,
            "_view_module": "@jupyter-widgets/base",
            "_view_module_version": "1.2.0",
            "_view_name": "StyleView",
            "description_width": ""
          }
        },
        "16a0ce3ee43442d5865d579eb807ee90": {
          "model_module": "@jupyter-widgets/base",
          "model_name": "LayoutModel",
          "model_module_version": "1.2.0",
          "state": {
            "_model_module": "@jupyter-widgets/base",
            "_model_module_version": "1.2.0",
            "_model_name": "LayoutModel",
            "_view_count": null,
            "_view_module": "@jupyter-widgets/base",
            "_view_module_version": "1.2.0",
            "_view_name": "LayoutView",
            "align_content": null,
            "align_items": null,
            "align_self": null,
            "border": null,
            "bottom": null,
            "display": null,
            "flex": null,
            "flex_flow": null,
            "grid_area": null,
            "grid_auto_columns": null,
            "grid_auto_flow": null,
            "grid_auto_rows": null,
            "grid_column": null,
            "grid_gap": null,
            "grid_row": null,
            "grid_template_areas": null,
            "grid_template_columns": null,
            "grid_template_rows": null,
            "height": null,
            "justify_content": null,
            "justify_items": null,
            "left": null,
            "margin": null,
            "max_height": null,
            "max_width": null,
            "min_height": null,
            "min_width": null,
            "object_fit": null,
            "object_position": null,
            "order": null,
            "overflow": null,
            "overflow_x": null,
            "overflow_y": null,
            "padding": null,
            "right": null,
            "top": null,
            "visibility": null,
            "width": null
          }
        },
        "a325ed5844cf4d82ace5970d9a8d035d": {
          "model_module": "@jupyter-widgets/controls",
          "model_name": "DescriptionStyleModel",
          "model_module_version": "1.5.0",
          "state": {
            "_model_module": "@jupyter-widgets/controls",
            "_model_module_version": "1.5.0",
            "_model_name": "DescriptionStyleModel",
            "_view_count": null,
            "_view_module": "@jupyter-widgets/base",
            "_view_module_version": "1.2.0",
            "_view_name": "StyleView",
            "description_width": ""
          }
        },
        "1d4c804de8f54aa986451754c1b73983": {
          "model_module": "@jupyter-widgets/controls",
          "model_name": "HBoxModel",
          "model_module_version": "1.5.0",
          "state": {
            "_dom_classes": [],
            "_model_module": "@jupyter-widgets/controls",
            "_model_module_version": "1.5.0",
            "_model_name": "HBoxModel",
            "_view_count": null,
            "_view_module": "@jupyter-widgets/controls",
            "_view_module_version": "1.5.0",
            "_view_name": "HBoxView",
            "box_style": "",
            "children": [
              "IPY_MODEL_2ca5f91fb4444a9da1447f1667e8c770",
              "IPY_MODEL_1fade92825d14de89eeac08689c536c4",
              "IPY_MODEL_d40be5ad9f5b410a8b0feb7863ba1021"
            ],
            "layout": "IPY_MODEL_f190431007d547cfa10b7bcc8b205b52"
          }
        },
        "2ca5f91fb4444a9da1447f1667e8c770": {
          "model_module": "@jupyter-widgets/controls",
          "model_name": "HTMLModel",
          "model_module_version": "1.5.0",
          "state": {
            "_dom_classes": [],
            "_model_module": "@jupyter-widgets/controls",
            "_model_module_version": "1.5.0",
            "_model_name": "HTMLModel",
            "_view_count": null,
            "_view_module": "@jupyter-widgets/controls",
            "_view_module_version": "1.5.0",
            "_view_name": "HTMLView",
            "description": "",
            "description_tooltip": null,
            "layout": "IPY_MODEL_ae5c02a47e8a4a81b5f3c3c08c49a52b",
            "placeholder": "​",
            "style": "IPY_MODEL_ebf89451bb1d4c2896fba1ce2498e55d",
            "value": "Map: 100%"
          }
        },
        "1fade92825d14de89eeac08689c536c4": {
          "model_module": "@jupyter-widgets/controls",
          "model_name": "FloatProgressModel",
          "model_module_version": "1.5.0",
          "state": {
            "_dom_classes": [],
            "_model_module": "@jupyter-widgets/controls",
            "_model_module_version": "1.5.0",
            "_model_name": "FloatProgressModel",
            "_view_count": null,
            "_view_module": "@jupyter-widgets/controls",
            "_view_module_version": "1.5.0",
            "_view_name": "ProgressView",
            "bar_style": "success",
            "description": "",
            "description_tooltip": null,
            "layout": "IPY_MODEL_bb62b15695bd428198cd616bdd93d234",
            "max": 20547,
            "min": 0,
            "orientation": "horizontal",
            "style": "IPY_MODEL_4c306444c6834f96bd6b8de33e35ffaa",
            "value": 20547
          }
        },
        "d40be5ad9f5b410a8b0feb7863ba1021": {
          "model_module": "@jupyter-widgets/controls",
          "model_name": "HTMLModel",
          "model_module_version": "1.5.0",
          "state": {
            "_dom_classes": [],
            "_model_module": "@jupyter-widgets/controls",
            "_model_module_version": "1.5.0",
            "_model_name": "HTMLModel",
            "_view_count": null,
            "_view_module": "@jupyter-widgets/controls",
            "_view_module_version": "1.5.0",
            "_view_name": "HTMLView",
            "description": "",
            "description_tooltip": null,
            "layout": "IPY_MODEL_f4e70af1ed72445687d74dd0e6999da3",
            "placeholder": "​",
            "style": "IPY_MODEL_387c7e18b1014c46a2df7452a030e8af",
            "value": " 20547/20547 [00:06&lt;00:00, 3160.91 examples/s]"
          }
        },
        "f190431007d547cfa10b7bcc8b205b52": {
          "model_module": "@jupyter-widgets/base",
          "model_name": "LayoutModel",
          "model_module_version": "1.2.0",
          "state": {
            "_model_module": "@jupyter-widgets/base",
            "_model_module_version": "1.2.0",
            "_model_name": "LayoutModel",
            "_view_count": null,
            "_view_module": "@jupyter-widgets/base",
            "_view_module_version": "1.2.0",
            "_view_name": "LayoutView",
            "align_content": null,
            "align_items": null,
            "align_self": null,
            "border": null,
            "bottom": null,
            "display": null,
            "flex": null,
            "flex_flow": null,
            "grid_area": null,
            "grid_auto_columns": null,
            "grid_auto_flow": null,
            "grid_auto_rows": null,
            "grid_column": null,
            "grid_gap": null,
            "grid_row": null,
            "grid_template_areas": null,
            "grid_template_columns": null,
            "grid_template_rows": null,
            "height": null,
            "justify_content": null,
            "justify_items": null,
            "left": null,
            "margin": null,
            "max_height": null,
            "max_width": null,
            "min_height": null,
            "min_width": null,
            "object_fit": null,
            "object_position": null,
            "order": null,
            "overflow": null,
            "overflow_x": null,
            "overflow_y": null,
            "padding": null,
            "right": null,
            "top": null,
            "visibility": null,
            "width": null
          }
        },
        "ae5c02a47e8a4a81b5f3c3c08c49a52b": {
          "model_module": "@jupyter-widgets/base",
          "model_name": "LayoutModel",
          "model_module_version": "1.2.0",
          "state": {
            "_model_module": "@jupyter-widgets/base",
            "_model_module_version": "1.2.0",
            "_model_name": "LayoutModel",
            "_view_count": null,
            "_view_module": "@jupyter-widgets/base",
            "_view_module_version": "1.2.0",
            "_view_name": "LayoutView",
            "align_content": null,
            "align_items": null,
            "align_self": null,
            "border": null,
            "bottom": null,
            "display": null,
            "flex": null,
            "flex_flow": null,
            "grid_area": null,
            "grid_auto_columns": null,
            "grid_auto_flow": null,
            "grid_auto_rows": null,
            "grid_column": null,
            "grid_gap": null,
            "grid_row": null,
            "grid_template_areas": null,
            "grid_template_columns": null,
            "grid_template_rows": null,
            "height": null,
            "justify_content": null,
            "justify_items": null,
            "left": null,
            "margin": null,
            "max_height": null,
            "max_width": null,
            "min_height": null,
            "min_width": null,
            "object_fit": null,
            "object_position": null,
            "order": null,
            "overflow": null,
            "overflow_x": null,
            "overflow_y": null,
            "padding": null,
            "right": null,
            "top": null,
            "visibility": null,
            "width": null
          }
        },
        "ebf89451bb1d4c2896fba1ce2498e55d": {
          "model_module": "@jupyter-widgets/controls",
          "model_name": "DescriptionStyleModel",
          "model_module_version": "1.5.0",
          "state": {
            "_model_module": "@jupyter-widgets/controls",
            "_model_module_version": "1.5.0",
            "_model_name": "DescriptionStyleModel",
            "_view_count": null,
            "_view_module": "@jupyter-widgets/base",
            "_view_module_version": "1.2.0",
            "_view_name": "StyleView",
            "description_width": ""
          }
        },
        "bb62b15695bd428198cd616bdd93d234": {
          "model_module": "@jupyter-widgets/base",
          "model_name": "LayoutModel",
          "model_module_version": "1.2.0",
          "state": {
            "_model_module": "@jupyter-widgets/base",
            "_model_module_version": "1.2.0",
            "_model_name": "LayoutModel",
            "_view_count": null,
            "_view_module": "@jupyter-widgets/base",
            "_view_module_version": "1.2.0",
            "_view_name": "LayoutView",
            "align_content": null,
            "align_items": null,
            "align_self": null,
            "border": null,
            "bottom": null,
            "display": null,
            "flex": null,
            "flex_flow": null,
            "grid_area": null,
            "grid_auto_columns": null,
            "grid_auto_flow": null,
            "grid_auto_rows": null,
            "grid_column": null,
            "grid_gap": null,
            "grid_row": null,
            "grid_template_areas": null,
            "grid_template_columns": null,
            "grid_template_rows": null,
            "height": null,
            "justify_content": null,
            "justify_items": null,
            "left": null,
            "margin": null,
            "max_height": null,
            "max_width": null,
            "min_height": null,
            "min_width": null,
            "object_fit": null,
            "object_position": null,
            "order": null,
            "overflow": null,
            "overflow_x": null,
            "overflow_y": null,
            "padding": null,
            "right": null,
            "top": null,
            "visibility": null,
            "width": null
          }
        },
        "4c306444c6834f96bd6b8de33e35ffaa": {
          "model_module": "@jupyter-widgets/controls",
          "model_name": "ProgressStyleModel",
          "model_module_version": "1.5.0",
          "state": {
            "_model_module": "@jupyter-widgets/controls",
            "_model_module_version": "1.5.0",
            "_model_name": "ProgressStyleModel",
            "_view_count": null,
            "_view_module": "@jupyter-widgets/base",
            "_view_module_version": "1.2.0",
            "_view_name": "StyleView",
            "bar_color": null,
            "description_width": ""
          }
        },
        "f4e70af1ed72445687d74dd0e6999da3": {
          "model_module": "@jupyter-widgets/base",
          "model_name": "LayoutModel",
          "model_module_version": "1.2.0",
          "state": {
            "_model_module": "@jupyter-widgets/base",
            "_model_module_version": "1.2.0",
            "_model_name": "LayoutModel",
            "_view_count": null,
            "_view_module": "@jupyter-widgets/base",
            "_view_module_version": "1.2.0",
            "_view_name": "LayoutView",
            "align_content": null,
            "align_items": null,
            "align_self": null,
            "border": null,
            "bottom": null,
            "display": null,
            "flex": null,
            "flex_flow": null,
            "grid_area": null,
            "grid_auto_columns": null,
            "grid_auto_flow": null,
            "grid_auto_rows": null,
            "grid_column": null,
            "grid_gap": null,
            "grid_row": null,
            "grid_template_areas": null,
            "grid_template_columns": null,
            "grid_template_rows": null,
            "height": null,
            "justify_content": null,
            "justify_items": null,
            "left": null,
            "margin": null,
            "max_height": null,
            "max_width": null,
            "min_height": null,
            "min_width": null,
            "object_fit": null,
            "object_position": null,
            "order": null,
            "overflow": null,
            "overflow_x": null,
            "overflow_y": null,
            "padding": null,
            "right": null,
            "top": null,
            "visibility": null,
            "width": null
          }
        },
        "387c7e18b1014c46a2df7452a030e8af": {
          "model_module": "@jupyter-widgets/controls",
          "model_name": "DescriptionStyleModel",
          "model_module_version": "1.5.0",
          "state": {
            "_model_module": "@jupyter-widgets/controls",
            "_model_module_version": "1.5.0",
            "_model_name": "DescriptionStyleModel",
            "_view_count": null,
            "_view_module": "@jupyter-widgets/base",
            "_view_module_version": "1.2.0",
            "_view_name": "StyleView",
            "description_width": ""
          }
        },
        "5ab204d5172f4e1fb0d119ad6293185b": {
          "model_module": "@jupyter-widgets/controls",
          "model_name": "HBoxModel",
          "model_module_version": "1.5.0",
          "state": {
            "_dom_classes": [],
            "_model_module": "@jupyter-widgets/controls",
            "_model_module_version": "1.5.0",
            "_model_name": "HBoxModel",
            "_view_count": null,
            "_view_module": "@jupyter-widgets/controls",
            "_view_module_version": "1.5.0",
            "_view_name": "HBoxView",
            "box_style": "",
            "children": [
              "IPY_MODEL_fe358aa96fdd4a7bae2c9218772bdeb2",
              "IPY_MODEL_8a0cc05c11f54f8f90cc63edf6926baf",
              "IPY_MODEL_2f040aa2d4d44956928bda86de6b02da"
            ],
            "layout": "IPY_MODEL_3015eafdddf043209b64a6147e7e4c23"
          }
        },
        "fe358aa96fdd4a7bae2c9218772bdeb2": {
          "model_module": "@jupyter-widgets/controls",
          "model_name": "HTMLModel",
          "model_module_version": "1.5.0",
          "state": {
            "_dom_classes": [],
            "_model_module": "@jupyter-widgets/controls",
            "_model_module_version": "1.5.0",
            "_model_name": "HTMLModel",
            "_view_count": null,
            "_view_module": "@jupyter-widgets/controls",
            "_view_module_version": "1.5.0",
            "_view_name": "HTMLView",
            "description": "",
            "description_tooltip": null,
            "layout": "IPY_MODEL_652267afa33b42e2833bb4070dd46e44",
            "placeholder": "​",
            "style": "IPY_MODEL_740f4c885c5540a3a124353336ee8bbb",
            "value": "Map: 100%"
          }
        },
        "8a0cc05c11f54f8f90cc63edf6926baf": {
          "model_module": "@jupyter-widgets/controls",
          "model_name": "FloatProgressModel",
          "model_module_version": "1.5.0",
          "state": {
            "_dom_classes": [],
            "_model_module": "@jupyter-widgets/controls",
            "_model_module_version": "1.5.0",
            "_model_name": "FloatProgressModel",
            "_view_count": null,
            "_view_module": "@jupyter-widgets/controls",
            "_view_module_version": "1.5.0",
            "_view_name": "ProgressView",
            "bar_style": "success",
            "description": "",
            "description_tooltip": null,
            "layout": "IPY_MODEL_c7d99d6f170a45d5bf44299ff5c9a9a8",
            "max": 2606,
            "min": 0,
            "orientation": "horizontal",
            "style": "IPY_MODEL_96634cf7b36245f3a654825d3f73ad5d",
            "value": 2606
          }
        },
        "2f040aa2d4d44956928bda86de6b02da": {
          "model_module": "@jupyter-widgets/controls",
          "model_name": "HTMLModel",
          "model_module_version": "1.5.0",
          "state": {
            "_dom_classes": [],
            "_model_module": "@jupyter-widgets/controls",
            "_model_module_version": "1.5.0",
            "_model_name": "HTMLModel",
            "_view_count": null,
            "_view_module": "@jupyter-widgets/controls",
            "_view_module_version": "1.5.0",
            "_view_name": "HTMLView",
            "description": "",
            "description_tooltip": null,
            "layout": "IPY_MODEL_982c89cd69b4490d999183ffbd33e3a5",
            "placeholder": "​",
            "style": "IPY_MODEL_c459b7d26acd4cb8b75cbd58ce35d998",
            "value": " 2606/2606 [00:00&lt;00:00, 3070.54 examples/s]"
          }
        },
        "3015eafdddf043209b64a6147e7e4c23": {
          "model_module": "@jupyter-widgets/base",
          "model_name": "LayoutModel",
          "model_module_version": "1.2.0",
          "state": {
            "_model_module": "@jupyter-widgets/base",
            "_model_module_version": "1.2.0",
            "_model_name": "LayoutModel",
            "_view_count": null,
            "_view_module": "@jupyter-widgets/base",
            "_view_module_version": "1.2.0",
            "_view_name": "LayoutView",
            "align_content": null,
            "align_items": null,
            "align_self": null,
            "border": null,
            "bottom": null,
            "display": null,
            "flex": null,
            "flex_flow": null,
            "grid_area": null,
            "grid_auto_columns": null,
            "grid_auto_flow": null,
            "grid_auto_rows": null,
            "grid_column": null,
            "grid_gap": null,
            "grid_row": null,
            "grid_template_areas": null,
            "grid_template_columns": null,
            "grid_template_rows": null,
            "height": null,
            "justify_content": null,
            "justify_items": null,
            "left": null,
            "margin": null,
            "max_height": null,
            "max_width": null,
            "min_height": null,
            "min_width": null,
            "object_fit": null,
            "object_position": null,
            "order": null,
            "overflow": null,
            "overflow_x": null,
            "overflow_y": null,
            "padding": null,
            "right": null,
            "top": null,
            "visibility": null,
            "width": null
          }
        },
        "652267afa33b42e2833bb4070dd46e44": {
          "model_module": "@jupyter-widgets/base",
          "model_name": "LayoutModel",
          "model_module_version": "1.2.0",
          "state": {
            "_model_module": "@jupyter-widgets/base",
            "_model_module_version": "1.2.0",
            "_model_name": "LayoutModel",
            "_view_count": null,
            "_view_module": "@jupyter-widgets/base",
            "_view_module_version": "1.2.0",
            "_view_name": "LayoutView",
            "align_content": null,
            "align_items": null,
            "align_self": null,
            "border": null,
            "bottom": null,
            "display": null,
            "flex": null,
            "flex_flow": null,
            "grid_area": null,
            "grid_auto_columns": null,
            "grid_auto_flow": null,
            "grid_auto_rows": null,
            "grid_column": null,
            "grid_gap": null,
            "grid_row": null,
            "grid_template_areas": null,
            "grid_template_columns": null,
            "grid_template_rows": null,
            "height": null,
            "justify_content": null,
            "justify_items": null,
            "left": null,
            "margin": null,
            "max_height": null,
            "max_width": null,
            "min_height": null,
            "min_width": null,
            "object_fit": null,
            "object_position": null,
            "order": null,
            "overflow": null,
            "overflow_x": null,
            "overflow_y": null,
            "padding": null,
            "right": null,
            "top": null,
            "visibility": null,
            "width": null
          }
        },
        "740f4c885c5540a3a124353336ee8bbb": {
          "model_module": "@jupyter-widgets/controls",
          "model_name": "DescriptionStyleModel",
          "model_module_version": "1.5.0",
          "state": {
            "_model_module": "@jupyter-widgets/controls",
            "_model_module_version": "1.5.0",
            "_model_name": "DescriptionStyleModel",
            "_view_count": null,
            "_view_module": "@jupyter-widgets/base",
            "_view_module_version": "1.2.0",
            "_view_name": "StyleView",
            "description_width": ""
          }
        },
        "c7d99d6f170a45d5bf44299ff5c9a9a8": {
          "model_module": "@jupyter-widgets/base",
          "model_name": "LayoutModel",
          "model_module_version": "1.2.0",
          "state": {
            "_model_module": "@jupyter-widgets/base",
            "_model_module_version": "1.2.0",
            "_model_name": "LayoutModel",
            "_view_count": null,
            "_view_module": "@jupyter-widgets/base",
            "_view_module_version": "1.2.0",
            "_view_name": "LayoutView",
            "align_content": null,
            "align_items": null,
            "align_self": null,
            "border": null,
            "bottom": null,
            "display": null,
            "flex": null,
            "flex_flow": null,
            "grid_area": null,
            "grid_auto_columns": null,
            "grid_auto_flow": null,
            "grid_auto_rows": null,
            "grid_column": null,
            "grid_gap": null,
            "grid_row": null,
            "grid_template_areas": null,
            "grid_template_columns": null,
            "grid_template_rows": null,
            "height": null,
            "justify_content": null,
            "justify_items": null,
            "left": null,
            "margin": null,
            "max_height": null,
            "max_width": null,
            "min_height": null,
            "min_width": null,
            "object_fit": null,
            "object_position": null,
            "order": null,
            "overflow": null,
            "overflow_x": null,
            "overflow_y": null,
            "padding": null,
            "right": null,
            "top": null,
            "visibility": null,
            "width": null
          }
        },
        "96634cf7b36245f3a654825d3f73ad5d": {
          "model_module": "@jupyter-widgets/controls",
          "model_name": "ProgressStyleModel",
          "model_module_version": "1.5.0",
          "state": {
            "_model_module": "@jupyter-widgets/controls",
            "_model_module_version": "1.5.0",
            "_model_name": "ProgressStyleModel",
            "_view_count": null,
            "_view_module": "@jupyter-widgets/base",
            "_view_module_version": "1.2.0",
            "_view_name": "StyleView",
            "bar_color": null,
            "description_width": ""
          }
        },
        "982c89cd69b4490d999183ffbd33e3a5": {
          "model_module": "@jupyter-widgets/base",
          "model_name": "LayoutModel",
          "model_module_version": "1.2.0",
          "state": {
            "_model_module": "@jupyter-widgets/base",
            "_model_module_version": "1.2.0",
            "_model_name": "LayoutModel",
            "_view_count": null,
            "_view_module": "@jupyter-widgets/base",
            "_view_module_version": "1.2.0",
            "_view_name": "LayoutView",
            "align_content": null,
            "align_items": null,
            "align_self": null,
            "border": null,
            "bottom": null,
            "display": null,
            "flex": null,
            "flex_flow": null,
            "grid_area": null,
            "grid_auto_columns": null,
            "grid_auto_flow": null,
            "grid_auto_rows": null,
            "grid_column": null,
            "grid_gap": null,
            "grid_row": null,
            "grid_template_areas": null,
            "grid_template_columns": null,
            "grid_template_rows": null,
            "height": null,
            "justify_content": null,
            "justify_items": null,
            "left": null,
            "margin": null,
            "max_height": null,
            "max_width": null,
            "min_height": null,
            "min_width": null,
            "object_fit": null,
            "object_position": null,
            "order": null,
            "overflow": null,
            "overflow_x": null,
            "overflow_y": null,
            "padding": null,
            "right": null,
            "top": null,
            "visibility": null,
            "width": null
          }
        },
        "c459b7d26acd4cb8b75cbd58ce35d998": {
          "model_module": "@jupyter-widgets/controls",
          "model_name": "DescriptionStyleModel",
          "model_module_version": "1.5.0",
          "state": {
            "_model_module": "@jupyter-widgets/controls",
            "_model_module_version": "1.5.0",
            "_model_name": "DescriptionStyleModel",
            "_view_count": null,
            "_view_module": "@jupyter-widgets/base",
            "_view_module_version": "1.2.0",
            "_view_name": "StyleView",
            "description_width": ""
          }
        },
        "5956c73e092a43bca2fc0c9a24b272e8": {
          "model_module": "@jupyter-widgets/controls",
          "model_name": "HBoxModel",
          "model_module_version": "1.5.0",
          "state": {
            "_dom_classes": [],
            "_model_module": "@jupyter-widgets/controls",
            "_model_module_version": "1.5.0",
            "_model_name": "HBoxModel",
            "_view_count": null,
            "_view_module": "@jupyter-widgets/controls",
            "_view_module_version": "1.5.0",
            "_view_name": "HBoxView",
            "box_style": "",
            "children": [
              "IPY_MODEL_b57b04f4405943be94a8ff0eda8e96af",
              "IPY_MODEL_60c7f8da8e15437cb19714863e3702f2",
              "IPY_MODEL_4392df0cee9e4effacb0e43dd592f674"
            ],
            "layout": "IPY_MODEL_044665c8a2644d3280731465c315614c"
          }
        },
        "b57b04f4405943be94a8ff0eda8e96af": {
          "model_module": "@jupyter-widgets/controls",
          "model_name": "HTMLModel",
          "model_module_version": "1.5.0",
          "state": {
            "_dom_classes": [],
            "_model_module": "@jupyter-widgets/controls",
            "_model_module_version": "1.5.0",
            "_model_name": "HTMLModel",
            "_view_count": null,
            "_view_module": "@jupyter-widgets/controls",
            "_view_module_version": "1.5.0",
            "_view_name": "HTMLView",
            "description": "",
            "description_tooltip": null,
            "layout": "IPY_MODEL_d21187a0dfd54a62afebf8c2e915a4b6",
            "placeholder": "​",
            "style": "IPY_MODEL_a3d82e2c9dd641d28e18d374f6873ef5",
            "value": "Map: 100%"
          }
        },
        "60c7f8da8e15437cb19714863e3702f2": {
          "model_module": "@jupyter-widgets/controls",
          "model_name": "FloatProgressModel",
          "model_module_version": "1.5.0",
          "state": {
            "_dom_classes": [],
            "_model_module": "@jupyter-widgets/controls",
            "_model_module_version": "1.5.0",
            "_model_name": "FloatProgressModel",
            "_view_count": null,
            "_view_module": "@jupyter-widgets/controls",
            "_view_module_version": "1.5.0",
            "_view_name": "ProgressView",
            "bar_style": "success",
            "description": "",
            "description_tooltip": null,
            "layout": "IPY_MODEL_cbfa53aeb1c7411f9876a1d8587735b5",
            "max": 2576,
            "min": 0,
            "orientation": "horizontal",
            "style": "IPY_MODEL_c6b48b04c50446788568be980f85c5b7",
            "value": 2576
          }
        },
        "4392df0cee9e4effacb0e43dd592f674": {
          "model_module": "@jupyter-widgets/controls",
          "model_name": "HTMLModel",
          "model_module_version": "1.5.0",
          "state": {
            "_dom_classes": [],
            "_model_module": "@jupyter-widgets/controls",
            "_model_module_version": "1.5.0",
            "_model_name": "HTMLModel",
            "_view_count": null,
            "_view_module": "@jupyter-widgets/controls",
            "_view_module_version": "1.5.0",
            "_view_name": "HTMLView",
            "description": "",
            "description_tooltip": null,
            "layout": "IPY_MODEL_fdc28470c0b04832b41647fc76fbff48",
            "placeholder": "​",
            "style": "IPY_MODEL_087a8f6a94874206b27cf19a1fc5fec8",
            "value": " 2576/2576 [00:00&lt;00:00, 2950.59 examples/s]"
          }
        },
        "044665c8a2644d3280731465c315614c": {
          "model_module": "@jupyter-widgets/base",
          "model_name": "LayoutModel",
          "model_module_version": "1.2.0",
          "state": {
            "_model_module": "@jupyter-widgets/base",
            "_model_module_version": "1.2.0",
            "_model_name": "LayoutModel",
            "_view_count": null,
            "_view_module": "@jupyter-widgets/base",
            "_view_module_version": "1.2.0",
            "_view_name": "LayoutView",
            "align_content": null,
            "align_items": null,
            "align_self": null,
            "border": null,
            "bottom": null,
            "display": null,
            "flex": null,
            "flex_flow": null,
            "grid_area": null,
            "grid_auto_columns": null,
            "grid_auto_flow": null,
            "grid_auto_rows": null,
            "grid_column": null,
            "grid_gap": null,
            "grid_row": null,
            "grid_template_areas": null,
            "grid_template_columns": null,
            "grid_template_rows": null,
            "height": null,
            "justify_content": null,
            "justify_items": null,
            "left": null,
            "margin": null,
            "max_height": null,
            "max_width": null,
            "min_height": null,
            "min_width": null,
            "object_fit": null,
            "object_position": null,
            "order": null,
            "overflow": null,
            "overflow_x": null,
            "overflow_y": null,
            "padding": null,
            "right": null,
            "top": null,
            "visibility": null,
            "width": null
          }
        },
        "d21187a0dfd54a62afebf8c2e915a4b6": {
          "model_module": "@jupyter-widgets/base",
          "model_name": "LayoutModel",
          "model_module_version": "1.2.0",
          "state": {
            "_model_module": "@jupyter-widgets/base",
            "_model_module_version": "1.2.0",
            "_model_name": "LayoutModel",
            "_view_count": null,
            "_view_module": "@jupyter-widgets/base",
            "_view_module_version": "1.2.0",
            "_view_name": "LayoutView",
            "align_content": null,
            "align_items": null,
            "align_self": null,
            "border": null,
            "bottom": null,
            "display": null,
            "flex": null,
            "flex_flow": null,
            "grid_area": null,
            "grid_auto_columns": null,
            "grid_auto_flow": null,
            "grid_auto_rows": null,
            "grid_column": null,
            "grid_gap": null,
            "grid_row": null,
            "grid_template_areas": null,
            "grid_template_columns": null,
            "grid_template_rows": null,
            "height": null,
            "justify_content": null,
            "justify_items": null,
            "left": null,
            "margin": null,
            "max_height": null,
            "max_width": null,
            "min_height": null,
            "min_width": null,
            "object_fit": null,
            "object_position": null,
            "order": null,
            "overflow": null,
            "overflow_x": null,
            "overflow_y": null,
            "padding": null,
            "right": null,
            "top": null,
            "visibility": null,
            "width": null
          }
        },
        "a3d82e2c9dd641d28e18d374f6873ef5": {
          "model_module": "@jupyter-widgets/controls",
          "model_name": "DescriptionStyleModel",
          "model_module_version": "1.5.0",
          "state": {
            "_model_module": "@jupyter-widgets/controls",
            "_model_module_version": "1.5.0",
            "_model_name": "DescriptionStyleModel",
            "_view_count": null,
            "_view_module": "@jupyter-widgets/base",
            "_view_module_version": "1.2.0",
            "_view_name": "StyleView",
            "description_width": ""
          }
        },
        "cbfa53aeb1c7411f9876a1d8587735b5": {
          "model_module": "@jupyter-widgets/base",
          "model_name": "LayoutModel",
          "model_module_version": "1.2.0",
          "state": {
            "_model_module": "@jupyter-widgets/base",
            "_model_module_version": "1.2.0",
            "_model_name": "LayoutModel",
            "_view_count": null,
            "_view_module": "@jupyter-widgets/base",
            "_view_module_version": "1.2.0",
            "_view_name": "LayoutView",
            "align_content": null,
            "align_items": null,
            "align_self": null,
            "border": null,
            "bottom": null,
            "display": null,
            "flex": null,
            "flex_flow": null,
            "grid_area": null,
            "grid_auto_columns": null,
            "grid_auto_flow": null,
            "grid_auto_rows": null,
            "grid_column": null,
            "grid_gap": null,
            "grid_row": null,
            "grid_template_areas": null,
            "grid_template_columns": null,
            "grid_template_rows": null,
            "height": null,
            "justify_content": null,
            "justify_items": null,
            "left": null,
            "margin": null,
            "max_height": null,
            "max_width": null,
            "min_height": null,
            "min_width": null,
            "object_fit": null,
            "object_position": null,
            "order": null,
            "overflow": null,
            "overflow_x": null,
            "overflow_y": null,
            "padding": null,
            "right": null,
            "top": null,
            "visibility": null,
            "width": null
          }
        },
        "c6b48b04c50446788568be980f85c5b7": {
          "model_module": "@jupyter-widgets/controls",
          "model_name": "ProgressStyleModel",
          "model_module_version": "1.5.0",
          "state": {
            "_model_module": "@jupyter-widgets/controls",
            "_model_module_version": "1.5.0",
            "_model_name": "ProgressStyleModel",
            "_view_count": null,
            "_view_module": "@jupyter-widgets/base",
            "_view_module_version": "1.2.0",
            "_view_name": "StyleView",
            "bar_color": null,
            "description_width": ""
          }
        },
        "fdc28470c0b04832b41647fc76fbff48": {
          "model_module": "@jupyter-widgets/base",
          "model_name": "LayoutModel",
          "model_module_version": "1.2.0",
          "state": {
            "_model_module": "@jupyter-widgets/base",
            "_model_module_version": "1.2.0",
            "_model_name": "LayoutModel",
            "_view_count": null,
            "_view_module": "@jupyter-widgets/base",
            "_view_module_version": "1.2.0",
            "_view_name": "LayoutView",
            "align_content": null,
            "align_items": null,
            "align_self": null,
            "border": null,
            "bottom": null,
            "display": null,
            "flex": null,
            "flex_flow": null,
            "grid_area": null,
            "grid_auto_columns": null,
            "grid_auto_flow": null,
            "grid_auto_rows": null,
            "grid_column": null,
            "grid_gap": null,
            "grid_row": null,
            "grid_template_areas": null,
            "grid_template_columns": null,
            "grid_template_rows": null,
            "height": null,
            "justify_content": null,
            "justify_items": null,
            "left": null,
            "margin": null,
            "max_height": null,
            "max_width": null,
            "min_height": null,
            "min_width": null,
            "object_fit": null,
            "object_position": null,
            "order": null,
            "overflow": null,
            "overflow_x": null,
            "overflow_y": null,
            "padding": null,
            "right": null,
            "top": null,
            "visibility": null,
            "width": null
          }
        },
        "087a8f6a94874206b27cf19a1fc5fec8": {
          "model_module": "@jupyter-widgets/controls",
          "model_name": "DescriptionStyleModel",
          "model_module_version": "1.5.0",
          "state": {
            "_model_module": "@jupyter-widgets/controls",
            "_model_module_version": "1.5.0",
            "_model_name": "DescriptionStyleModel",
            "_view_count": null,
            "_view_module": "@jupyter-widgets/base",
            "_view_module_version": "1.2.0",
            "_view_name": "StyleView",
            "description_width": ""
          }
        },
        "4c67e19671764a99aefaca00a16b2092": {
          "model_module": "@jupyter-widgets/controls",
          "model_name": "HBoxModel",
          "model_module_version": "1.5.0",
          "state": {
            "_dom_classes": [],
            "_model_module": "@jupyter-widgets/controls",
            "_model_module_version": "1.5.0",
            "_model_name": "HBoxModel",
            "_view_count": null,
            "_view_module": "@jupyter-widgets/controls",
            "_view_module_version": "1.5.0",
            "_view_name": "HBoxView",
            "box_style": "",
            "children": [
              "IPY_MODEL_cf46b48db9444b94a954ac062dc30f68",
              "IPY_MODEL_d5d4bb43eb554408971819f42d382cbd",
              "IPY_MODEL_5c52d2b80dae4d27956fdec7af8df0cb"
            ],
            "layout": "IPY_MODEL_fd80cc2659064dedb2375fc8aff17282"
          }
        },
        "cf46b48db9444b94a954ac062dc30f68": {
          "model_module": "@jupyter-widgets/controls",
          "model_name": "HTMLModel",
          "model_module_version": "1.5.0",
          "state": {
            "_dom_classes": [],
            "_model_module": "@jupyter-widgets/controls",
            "_model_module_version": "1.5.0",
            "_model_name": "HTMLModel",
            "_view_count": null,
            "_view_module": "@jupyter-widgets/controls",
            "_view_module_version": "1.5.0",
            "_view_name": "HTMLView",
            "description": "",
            "description_tooltip": null,
            "layout": "IPY_MODEL_89d96e0290b54a36aabe4c492770137a",
            "placeholder": "​",
            "style": "IPY_MODEL_4c21f3dfa04c4422ba329110c0476789",
            "value": "Map: 100%"
          }
        },
        "d5d4bb43eb554408971819f42d382cbd": {
          "model_module": "@jupyter-widgets/controls",
          "model_name": "FloatProgressModel",
          "model_module_version": "1.5.0",
          "state": {
            "_dom_classes": [],
            "_model_module": "@jupyter-widgets/controls",
            "_model_module_version": "1.5.0",
            "_model_name": "FloatProgressModel",
            "_view_count": null,
            "_view_module": "@jupyter-widgets/controls",
            "_view_module_version": "1.5.0",
            "_view_name": "ProgressView",
            "bar_style": "success",
            "description": "",
            "description_tooltip": null,
            "layout": "IPY_MODEL_38e444dcdd4b42c691709c8649761648",
            "max": 4109,
            "min": 0,
            "orientation": "horizontal",
            "style": "IPY_MODEL_1d0b94a9d8734584a26d1909446f1f4d",
            "value": 4109
          }
        },
        "5c52d2b80dae4d27956fdec7af8df0cb": {
          "model_module": "@jupyter-widgets/controls",
          "model_name": "HTMLModel",
          "model_module_version": "1.5.0",
          "state": {
            "_dom_classes": [],
            "_model_module": "@jupyter-widgets/controls",
            "_model_module_version": "1.5.0",
            "_model_name": "HTMLModel",
            "_view_count": null,
            "_view_module": "@jupyter-widgets/controls",
            "_view_module_version": "1.5.0",
            "_view_name": "HTMLView",
            "description": "",
            "description_tooltip": null,
            "layout": "IPY_MODEL_27192ea5bba3440bb1116aa2865bcc07",
            "placeholder": "​",
            "style": "IPY_MODEL_d342ff7670a44604b50b5b4e55c3e0ff",
            "value": " 4109/4109 [00:01&lt;00:00, 2940.14 examples/s]"
          }
        },
        "fd80cc2659064dedb2375fc8aff17282": {
          "model_module": "@jupyter-widgets/base",
          "model_name": "LayoutModel",
          "model_module_version": "1.2.0",
          "state": {
            "_model_module": "@jupyter-widgets/base",
            "_model_module_version": "1.2.0",
            "_model_name": "LayoutModel",
            "_view_count": null,
            "_view_module": "@jupyter-widgets/base",
            "_view_module_version": "1.2.0",
            "_view_name": "LayoutView",
            "align_content": null,
            "align_items": null,
            "align_self": null,
            "border": null,
            "bottom": null,
            "display": null,
            "flex": null,
            "flex_flow": null,
            "grid_area": null,
            "grid_auto_columns": null,
            "grid_auto_flow": null,
            "grid_auto_rows": null,
            "grid_column": null,
            "grid_gap": null,
            "grid_row": null,
            "grid_template_areas": null,
            "grid_template_columns": null,
            "grid_template_rows": null,
            "height": null,
            "justify_content": null,
            "justify_items": null,
            "left": null,
            "margin": null,
            "max_height": null,
            "max_width": null,
            "min_height": null,
            "min_width": null,
            "object_fit": null,
            "object_position": null,
            "order": null,
            "overflow": null,
            "overflow_x": null,
            "overflow_y": null,
            "padding": null,
            "right": null,
            "top": null,
            "visibility": null,
            "width": null
          }
        },
        "89d96e0290b54a36aabe4c492770137a": {
          "model_module": "@jupyter-widgets/base",
          "model_name": "LayoutModel",
          "model_module_version": "1.2.0",
          "state": {
            "_model_module": "@jupyter-widgets/base",
            "_model_module_version": "1.2.0",
            "_model_name": "LayoutModel",
            "_view_count": null,
            "_view_module": "@jupyter-widgets/base",
            "_view_module_version": "1.2.0",
            "_view_name": "LayoutView",
            "align_content": null,
            "align_items": null,
            "align_self": null,
            "border": null,
            "bottom": null,
            "display": null,
            "flex": null,
            "flex_flow": null,
            "grid_area": null,
            "grid_auto_columns": null,
            "grid_auto_flow": null,
            "grid_auto_rows": null,
            "grid_column": null,
            "grid_gap": null,
            "grid_row": null,
            "grid_template_areas": null,
            "grid_template_columns": null,
            "grid_template_rows": null,
            "height": null,
            "justify_content": null,
            "justify_items": null,
            "left": null,
            "margin": null,
            "max_height": null,
            "max_width": null,
            "min_height": null,
            "min_width": null,
            "object_fit": null,
            "object_position": null,
            "order": null,
            "overflow": null,
            "overflow_x": null,
            "overflow_y": null,
            "padding": null,
            "right": null,
            "top": null,
            "visibility": null,
            "width": null
          }
        },
        "4c21f3dfa04c4422ba329110c0476789": {
          "model_module": "@jupyter-widgets/controls",
          "model_name": "DescriptionStyleModel",
          "model_module_version": "1.5.0",
          "state": {
            "_model_module": "@jupyter-widgets/controls",
            "_model_module_version": "1.5.0",
            "_model_name": "DescriptionStyleModel",
            "_view_count": null,
            "_view_module": "@jupyter-widgets/base",
            "_view_module_version": "1.2.0",
            "_view_name": "StyleView",
            "description_width": ""
          }
        },
        "38e444dcdd4b42c691709c8649761648": {
          "model_module": "@jupyter-widgets/base",
          "model_name": "LayoutModel",
          "model_module_version": "1.2.0",
          "state": {
            "_model_module": "@jupyter-widgets/base",
            "_model_module_version": "1.2.0",
            "_model_name": "LayoutModel",
            "_view_count": null,
            "_view_module": "@jupyter-widgets/base",
            "_view_module_version": "1.2.0",
            "_view_name": "LayoutView",
            "align_content": null,
            "align_items": null,
            "align_self": null,
            "border": null,
            "bottom": null,
            "display": null,
            "flex": null,
            "flex_flow": null,
            "grid_area": null,
            "grid_auto_columns": null,
            "grid_auto_flow": null,
            "grid_auto_rows": null,
            "grid_column": null,
            "grid_gap": null,
            "grid_row": null,
            "grid_template_areas": null,
            "grid_template_columns": null,
            "grid_template_rows": null,
            "height": null,
            "justify_content": null,
            "justify_items": null,
            "left": null,
            "margin": null,
            "max_height": null,
            "max_width": null,
            "min_height": null,
            "min_width": null,
            "object_fit": null,
            "object_position": null,
            "order": null,
            "overflow": null,
            "overflow_x": null,
            "overflow_y": null,
            "padding": null,
            "right": null,
            "top": null,
            "visibility": null,
            "width": null
          }
        },
        "1d0b94a9d8734584a26d1909446f1f4d": {
          "model_module": "@jupyter-widgets/controls",
          "model_name": "ProgressStyleModel",
          "model_module_version": "1.5.0",
          "state": {
            "_model_module": "@jupyter-widgets/controls",
            "_model_module_version": "1.5.0",
            "_model_name": "ProgressStyleModel",
            "_view_count": null,
            "_view_module": "@jupyter-widgets/base",
            "_view_module_version": "1.2.0",
            "_view_name": "StyleView",
            "bar_color": null,
            "description_width": ""
          }
        },
        "27192ea5bba3440bb1116aa2865bcc07": {
          "model_module": "@jupyter-widgets/base",
          "model_name": "LayoutModel",
          "model_module_version": "1.2.0",
          "state": {
            "_model_module": "@jupyter-widgets/base",
            "_model_module_version": "1.2.0",
            "_model_name": "LayoutModel",
            "_view_count": null,
            "_view_module": "@jupyter-widgets/base",
            "_view_module_version": "1.2.0",
            "_view_name": "LayoutView",
            "align_content": null,
            "align_items": null,
            "align_self": null,
            "border": null,
            "bottom": null,
            "display": null,
            "flex": null,
            "flex_flow": null,
            "grid_area": null,
            "grid_auto_columns": null,
            "grid_auto_flow": null,
            "grid_auto_rows": null,
            "grid_column": null,
            "grid_gap": null,
            "grid_row": null,
            "grid_template_areas": null,
            "grid_template_columns": null,
            "grid_template_rows": null,
            "height": null,
            "justify_content": null,
            "justify_items": null,
            "left": null,
            "margin": null,
            "max_height": null,
            "max_width": null,
            "min_height": null,
            "min_width": null,
            "object_fit": null,
            "object_position": null,
            "order": null,
            "overflow": null,
            "overflow_x": null,
            "overflow_y": null,
            "padding": null,
            "right": null,
            "top": null,
            "visibility": null,
            "width": null
          }
        },
        "d342ff7670a44604b50b5b4e55c3e0ff": {
          "model_module": "@jupyter-widgets/controls",
          "model_name": "DescriptionStyleModel",
          "model_module_version": "1.5.0",
          "state": {
            "_model_module": "@jupyter-widgets/controls",
            "_model_module_version": "1.5.0",
            "_model_name": "DescriptionStyleModel",
            "_view_count": null,
            "_view_module": "@jupyter-widgets/base",
            "_view_module_version": "1.2.0",
            "_view_name": "StyleView",
            "description_width": ""
          }
        },
        "7412b1fc8e494b788e71907e7a628345": {
          "model_module": "@jupyter-widgets/controls",
          "model_name": "HBoxModel",
          "model_module_version": "1.5.0",
          "state": {
            "_dom_classes": [],
            "_model_module": "@jupyter-widgets/controls",
            "_model_module_version": "1.5.0",
            "_model_name": "HBoxModel",
            "_view_count": null,
            "_view_module": "@jupyter-widgets/controls",
            "_view_module_version": "1.5.0",
            "_view_name": "HBoxView",
            "box_style": "",
            "children": [
              "IPY_MODEL_48bd47a0417f46f8b875b68b71e9fac2",
              "IPY_MODEL_a6d95a512fb7490e948af6b6a727a7d2",
              "IPY_MODEL_435aaf78ce2e461d905791f069b03af7"
            ],
            "layout": "IPY_MODEL_d94ec3c695224fc99b1f736a4adeaa75"
          }
        },
        "48bd47a0417f46f8b875b68b71e9fac2": {
          "model_module": "@jupyter-widgets/controls",
          "model_name": "HTMLModel",
          "model_module_version": "1.5.0",
          "state": {
            "_dom_classes": [],
            "_model_module": "@jupyter-widgets/controls",
            "_model_module_version": "1.5.0",
            "_model_name": "HTMLModel",
            "_view_count": null,
            "_view_module": "@jupyter-widgets/controls",
            "_view_module_version": "1.5.0",
            "_view_name": "HTMLView",
            "description": "",
            "description_tooltip": null,
            "layout": "IPY_MODEL_ca5404cbf5614e34b8cbd30401fffc87",
            "placeholder": "​",
            "style": "IPY_MODEL_382bec59836d4108b4ab66c1d7aa5d7f",
            "value": "Map: 100%"
          }
        },
        "a6d95a512fb7490e948af6b6a727a7d2": {
          "model_module": "@jupyter-widgets/controls",
          "model_name": "FloatProgressModel",
          "model_module_version": "1.5.0",
          "state": {
            "_dom_classes": [],
            "_model_module": "@jupyter-widgets/controls",
            "_model_module_version": "1.5.0",
            "_model_name": "FloatProgressModel",
            "_view_count": null,
            "_view_module": "@jupyter-widgets/controls",
            "_view_module_version": "1.5.0",
            "_view_name": "ProgressView",
            "bar_style": "success",
            "description": "",
            "description_tooltip": null,
            "layout": "IPY_MODEL_ad1b81a3aae84730966dfcaf20c257f9",
            "max": 2606,
            "min": 0,
            "orientation": "horizontal",
            "style": "IPY_MODEL_da6da2cb05d5487e9eed40abb0790546",
            "value": 2606
          }
        },
        "435aaf78ce2e461d905791f069b03af7": {
          "model_module": "@jupyter-widgets/controls",
          "model_name": "HTMLModel",
          "model_module_version": "1.5.0",
          "state": {
            "_dom_classes": [],
            "_model_module": "@jupyter-widgets/controls",
            "_model_module_version": "1.5.0",
            "_model_name": "HTMLModel",
            "_view_count": null,
            "_view_module": "@jupyter-widgets/controls",
            "_view_module_version": "1.5.0",
            "_view_name": "HTMLView",
            "description": "",
            "description_tooltip": null,
            "layout": "IPY_MODEL_3c0cdc57796a479f963b6ead2dc1a483",
            "placeholder": "​",
            "style": "IPY_MODEL_284355998672407ead987a1991de392d",
            "value": " 2606/2606 [00:00&lt;00:00, 3072.94 examples/s]"
          }
        },
        "d94ec3c695224fc99b1f736a4adeaa75": {
          "model_module": "@jupyter-widgets/base",
          "model_name": "LayoutModel",
          "model_module_version": "1.2.0",
          "state": {
            "_model_module": "@jupyter-widgets/base",
            "_model_module_version": "1.2.0",
            "_model_name": "LayoutModel",
            "_view_count": null,
            "_view_module": "@jupyter-widgets/base",
            "_view_module_version": "1.2.0",
            "_view_name": "LayoutView",
            "align_content": null,
            "align_items": null,
            "align_self": null,
            "border": null,
            "bottom": null,
            "display": null,
            "flex": null,
            "flex_flow": null,
            "grid_area": null,
            "grid_auto_columns": null,
            "grid_auto_flow": null,
            "grid_auto_rows": null,
            "grid_column": null,
            "grid_gap": null,
            "grid_row": null,
            "grid_template_areas": null,
            "grid_template_columns": null,
            "grid_template_rows": null,
            "height": null,
            "justify_content": null,
            "justify_items": null,
            "left": null,
            "margin": null,
            "max_height": null,
            "max_width": null,
            "min_height": null,
            "min_width": null,
            "object_fit": null,
            "object_position": null,
            "order": null,
            "overflow": null,
            "overflow_x": null,
            "overflow_y": null,
            "padding": null,
            "right": null,
            "top": null,
            "visibility": null,
            "width": null
          }
        },
        "ca5404cbf5614e34b8cbd30401fffc87": {
          "model_module": "@jupyter-widgets/base",
          "model_name": "LayoutModel",
          "model_module_version": "1.2.0",
          "state": {
            "_model_module": "@jupyter-widgets/base",
            "_model_module_version": "1.2.0",
            "_model_name": "LayoutModel",
            "_view_count": null,
            "_view_module": "@jupyter-widgets/base",
            "_view_module_version": "1.2.0",
            "_view_name": "LayoutView",
            "align_content": null,
            "align_items": null,
            "align_self": null,
            "border": null,
            "bottom": null,
            "display": null,
            "flex": null,
            "flex_flow": null,
            "grid_area": null,
            "grid_auto_columns": null,
            "grid_auto_flow": null,
            "grid_auto_rows": null,
            "grid_column": null,
            "grid_gap": null,
            "grid_row": null,
            "grid_template_areas": null,
            "grid_template_columns": null,
            "grid_template_rows": null,
            "height": null,
            "justify_content": null,
            "justify_items": null,
            "left": null,
            "margin": null,
            "max_height": null,
            "max_width": null,
            "min_height": null,
            "min_width": null,
            "object_fit": null,
            "object_position": null,
            "order": null,
            "overflow": null,
            "overflow_x": null,
            "overflow_y": null,
            "padding": null,
            "right": null,
            "top": null,
            "visibility": null,
            "width": null
          }
        },
        "382bec59836d4108b4ab66c1d7aa5d7f": {
          "model_module": "@jupyter-widgets/controls",
          "model_name": "DescriptionStyleModel",
          "model_module_version": "1.5.0",
          "state": {
            "_model_module": "@jupyter-widgets/controls",
            "_model_module_version": "1.5.0",
            "_model_name": "DescriptionStyleModel",
            "_view_count": null,
            "_view_module": "@jupyter-widgets/base",
            "_view_module_version": "1.2.0",
            "_view_name": "StyleView",
            "description_width": ""
          }
        },
        "ad1b81a3aae84730966dfcaf20c257f9": {
          "model_module": "@jupyter-widgets/base",
          "model_name": "LayoutModel",
          "model_module_version": "1.2.0",
          "state": {
            "_model_module": "@jupyter-widgets/base",
            "_model_module_version": "1.2.0",
            "_model_name": "LayoutModel",
            "_view_count": null,
            "_view_module": "@jupyter-widgets/base",
            "_view_module_version": "1.2.0",
            "_view_name": "LayoutView",
            "align_content": null,
            "align_items": null,
            "align_self": null,
            "border": null,
            "bottom": null,
            "display": null,
            "flex": null,
            "flex_flow": null,
            "grid_area": null,
            "grid_auto_columns": null,
            "grid_auto_flow": null,
            "grid_auto_rows": null,
            "grid_column": null,
            "grid_gap": null,
            "grid_row": null,
            "grid_template_areas": null,
            "grid_template_columns": null,
            "grid_template_rows": null,
            "height": null,
            "justify_content": null,
            "justify_items": null,
            "left": null,
            "margin": null,
            "max_height": null,
            "max_width": null,
            "min_height": null,
            "min_width": null,
            "object_fit": null,
            "object_position": null,
            "order": null,
            "overflow": null,
            "overflow_x": null,
            "overflow_y": null,
            "padding": null,
            "right": null,
            "top": null,
            "visibility": null,
            "width": null
          }
        },
        "da6da2cb05d5487e9eed40abb0790546": {
          "model_module": "@jupyter-widgets/controls",
          "model_name": "ProgressStyleModel",
          "model_module_version": "1.5.0",
          "state": {
            "_model_module": "@jupyter-widgets/controls",
            "_model_module_version": "1.5.0",
            "_model_name": "ProgressStyleModel",
            "_view_count": null,
            "_view_module": "@jupyter-widgets/base",
            "_view_module_version": "1.2.0",
            "_view_name": "StyleView",
            "bar_color": null,
            "description_width": ""
          }
        },
        "3c0cdc57796a479f963b6ead2dc1a483": {
          "model_module": "@jupyter-widgets/base",
          "model_name": "LayoutModel",
          "model_module_version": "1.2.0",
          "state": {
            "_model_module": "@jupyter-widgets/base",
            "_model_module_version": "1.2.0",
            "_model_name": "LayoutModel",
            "_view_count": null,
            "_view_module": "@jupyter-widgets/base",
            "_view_module_version": "1.2.0",
            "_view_name": "LayoutView",
            "align_content": null,
            "align_items": null,
            "align_self": null,
            "border": null,
            "bottom": null,
            "display": null,
            "flex": null,
            "flex_flow": null,
            "grid_area": null,
            "grid_auto_columns": null,
            "grid_auto_flow": null,
            "grid_auto_rows": null,
            "grid_column": null,
            "grid_gap": null,
            "grid_row": null,
            "grid_template_areas": null,
            "grid_template_columns": null,
            "grid_template_rows": null,
            "height": null,
            "justify_content": null,
            "justify_items": null,
            "left": null,
            "margin": null,
            "max_height": null,
            "max_width": null,
            "min_height": null,
            "min_width": null,
            "object_fit": null,
            "object_position": null,
            "order": null,
            "overflow": null,
            "overflow_x": null,
            "overflow_y": null,
            "padding": null,
            "right": null,
            "top": null,
            "visibility": null,
            "width": null
          }
        },
        "284355998672407ead987a1991de392d": {
          "model_module": "@jupyter-widgets/controls",
          "model_name": "DescriptionStyleModel",
          "model_module_version": "1.5.0",
          "state": {
            "_model_module": "@jupyter-widgets/controls",
            "_model_module_version": "1.5.0",
            "_model_name": "DescriptionStyleModel",
            "_view_count": null,
            "_view_module": "@jupyter-widgets/base",
            "_view_module_version": "1.2.0",
            "_view_name": "StyleView",
            "description_width": ""
          }
        },
        "15221d788b424b1cb0e99ac1087dea77": {
          "model_module": "@jupyter-widgets/controls",
          "model_name": "HBoxModel",
          "model_module_version": "1.5.0",
          "state": {
            "_dom_classes": [],
            "_model_module": "@jupyter-widgets/controls",
            "_model_module_version": "1.5.0",
            "_model_name": "HBoxModel",
            "_view_count": null,
            "_view_module": "@jupyter-widgets/controls",
            "_view_module_version": "1.5.0",
            "_view_name": "HBoxView",
            "box_style": "",
            "children": [
              "IPY_MODEL_e3b066cdb4974f789cefbe1214a2789b",
              "IPY_MODEL_fe845cd28fc74fdd86cba1353bad9e95",
              "IPY_MODEL_ab6f1158d774428c8156fd2e8c6316be"
            ],
            "layout": "IPY_MODEL_e90db41c1a9c47e997a0faac9d4b26f2"
          }
        },
        "e3b066cdb4974f789cefbe1214a2789b": {
          "model_module": "@jupyter-widgets/controls",
          "model_name": "HTMLModel",
          "model_module_version": "1.5.0",
          "state": {
            "_dom_classes": [],
            "_model_module": "@jupyter-widgets/controls",
            "_model_module_version": "1.5.0",
            "_model_name": "HTMLModel",
            "_view_count": null,
            "_view_module": "@jupyter-widgets/controls",
            "_view_module_version": "1.5.0",
            "_view_name": "HTMLView",
            "description": "",
            "description_tooltip": null,
            "layout": "IPY_MODEL_876918dfad364c6b99fc2d8f44a6b308",
            "placeholder": "​",
            "style": "IPY_MODEL_5b7498da35a24191974fa55c07f3fadc",
            "value": "Map: 100%"
          }
        },
        "fe845cd28fc74fdd86cba1353bad9e95": {
          "model_module": "@jupyter-widgets/controls",
          "model_name": "FloatProgressModel",
          "model_module_version": "1.5.0",
          "state": {
            "_dom_classes": [],
            "_model_module": "@jupyter-widgets/controls",
            "_model_module_version": "1.5.0",
            "_model_name": "FloatProgressModel",
            "_view_count": null,
            "_view_module": "@jupyter-widgets/controls",
            "_view_module_version": "1.5.0",
            "_view_name": "ProgressView",
            "bar_style": "success",
            "description": "",
            "description_tooltip": null,
            "layout": "IPY_MODEL_9fb11ea9095842b7ba16c59481901eef",
            "max": 2576,
            "min": 0,
            "orientation": "horizontal",
            "style": "IPY_MODEL_dd3d02a8aeb64dd6825ccddc176346f0",
            "value": 2576
          }
        },
        "ab6f1158d774428c8156fd2e8c6316be": {
          "model_module": "@jupyter-widgets/controls",
          "model_name": "HTMLModel",
          "model_module_version": "1.5.0",
          "state": {
            "_dom_classes": [],
            "_model_module": "@jupyter-widgets/controls",
            "_model_module_version": "1.5.0",
            "_model_name": "HTMLModel",
            "_view_count": null,
            "_view_module": "@jupyter-widgets/controls",
            "_view_module_version": "1.5.0",
            "_view_name": "HTMLView",
            "description": "",
            "description_tooltip": null,
            "layout": "IPY_MODEL_d7868a5111b945ad9b8991d9e9d94823",
            "placeholder": "​",
            "style": "IPY_MODEL_6f78078a4e904edcac112ef42a7baaca",
            "value": " 2576/2576 [00:00&lt;00:00, 3018.93 examples/s]"
          }
        },
        "e90db41c1a9c47e997a0faac9d4b26f2": {
          "model_module": "@jupyter-widgets/base",
          "model_name": "LayoutModel",
          "model_module_version": "1.2.0",
          "state": {
            "_model_module": "@jupyter-widgets/base",
            "_model_module_version": "1.2.0",
            "_model_name": "LayoutModel",
            "_view_count": null,
            "_view_module": "@jupyter-widgets/base",
            "_view_module_version": "1.2.0",
            "_view_name": "LayoutView",
            "align_content": null,
            "align_items": null,
            "align_self": null,
            "border": null,
            "bottom": null,
            "display": null,
            "flex": null,
            "flex_flow": null,
            "grid_area": null,
            "grid_auto_columns": null,
            "grid_auto_flow": null,
            "grid_auto_rows": null,
            "grid_column": null,
            "grid_gap": null,
            "grid_row": null,
            "grid_template_areas": null,
            "grid_template_columns": null,
            "grid_template_rows": null,
            "height": null,
            "justify_content": null,
            "justify_items": null,
            "left": null,
            "margin": null,
            "max_height": null,
            "max_width": null,
            "min_height": null,
            "min_width": null,
            "object_fit": null,
            "object_position": null,
            "order": null,
            "overflow": null,
            "overflow_x": null,
            "overflow_y": null,
            "padding": null,
            "right": null,
            "top": null,
            "visibility": null,
            "width": null
          }
        },
        "876918dfad364c6b99fc2d8f44a6b308": {
          "model_module": "@jupyter-widgets/base",
          "model_name": "LayoutModel",
          "model_module_version": "1.2.0",
          "state": {
            "_model_module": "@jupyter-widgets/base",
            "_model_module_version": "1.2.0",
            "_model_name": "LayoutModel",
            "_view_count": null,
            "_view_module": "@jupyter-widgets/base",
            "_view_module_version": "1.2.0",
            "_view_name": "LayoutView",
            "align_content": null,
            "align_items": null,
            "align_self": null,
            "border": null,
            "bottom": null,
            "display": null,
            "flex": null,
            "flex_flow": null,
            "grid_area": null,
            "grid_auto_columns": null,
            "grid_auto_flow": null,
            "grid_auto_rows": null,
            "grid_column": null,
            "grid_gap": null,
            "grid_row": null,
            "grid_template_areas": null,
            "grid_template_columns": null,
            "grid_template_rows": null,
            "height": null,
            "justify_content": null,
            "justify_items": null,
            "left": null,
            "margin": null,
            "max_height": null,
            "max_width": null,
            "min_height": null,
            "min_width": null,
            "object_fit": null,
            "object_position": null,
            "order": null,
            "overflow": null,
            "overflow_x": null,
            "overflow_y": null,
            "padding": null,
            "right": null,
            "top": null,
            "visibility": null,
            "width": null
          }
        },
        "5b7498da35a24191974fa55c07f3fadc": {
          "model_module": "@jupyter-widgets/controls",
          "model_name": "DescriptionStyleModel",
          "model_module_version": "1.5.0",
          "state": {
            "_model_module": "@jupyter-widgets/controls",
            "_model_module_version": "1.5.0",
            "_model_name": "DescriptionStyleModel",
            "_view_count": null,
            "_view_module": "@jupyter-widgets/base",
            "_view_module_version": "1.2.0",
            "_view_name": "StyleView",
            "description_width": ""
          }
        },
        "9fb11ea9095842b7ba16c59481901eef": {
          "model_module": "@jupyter-widgets/base",
          "model_name": "LayoutModel",
          "model_module_version": "1.2.0",
          "state": {
            "_model_module": "@jupyter-widgets/base",
            "_model_module_version": "1.2.0",
            "_model_name": "LayoutModel",
            "_view_count": null,
            "_view_module": "@jupyter-widgets/base",
            "_view_module_version": "1.2.0",
            "_view_name": "LayoutView",
            "align_content": null,
            "align_items": null,
            "align_self": null,
            "border": null,
            "bottom": null,
            "display": null,
            "flex": null,
            "flex_flow": null,
            "grid_area": null,
            "grid_auto_columns": null,
            "grid_auto_flow": null,
            "grid_auto_rows": null,
            "grid_column": null,
            "grid_gap": null,
            "grid_row": null,
            "grid_template_areas": null,
            "grid_template_columns": null,
            "grid_template_rows": null,
            "height": null,
            "justify_content": null,
            "justify_items": null,
            "left": null,
            "margin": null,
            "max_height": null,
            "max_width": null,
            "min_height": null,
            "min_width": null,
            "object_fit": null,
            "object_position": null,
            "order": null,
            "overflow": null,
            "overflow_x": null,
            "overflow_y": null,
            "padding": null,
            "right": null,
            "top": null,
            "visibility": null,
            "width": null
          }
        },
        "dd3d02a8aeb64dd6825ccddc176346f0": {
          "model_module": "@jupyter-widgets/controls",
          "model_name": "ProgressStyleModel",
          "model_module_version": "1.5.0",
          "state": {
            "_model_module": "@jupyter-widgets/controls",
            "_model_module_version": "1.5.0",
            "_model_name": "ProgressStyleModel",
            "_view_count": null,
            "_view_module": "@jupyter-widgets/base",
            "_view_module_version": "1.2.0",
            "_view_name": "StyleView",
            "bar_color": null,
            "description_width": ""
          }
        },
        "d7868a5111b945ad9b8991d9e9d94823": {
          "model_module": "@jupyter-widgets/base",
          "model_name": "LayoutModel",
          "model_module_version": "1.2.0",
          "state": {
            "_model_module": "@jupyter-widgets/base",
            "_model_module_version": "1.2.0",
            "_model_name": "LayoutModel",
            "_view_count": null,
            "_view_module": "@jupyter-widgets/base",
            "_view_module_version": "1.2.0",
            "_view_name": "LayoutView",
            "align_content": null,
            "align_items": null,
            "align_self": null,
            "border": null,
            "bottom": null,
            "display": null,
            "flex": null,
            "flex_flow": null,
            "grid_area": null,
            "grid_auto_columns": null,
            "grid_auto_flow": null,
            "grid_auto_rows": null,
            "grid_column": null,
            "grid_gap": null,
            "grid_row": null,
            "grid_template_areas": null,
            "grid_template_columns": null,
            "grid_template_rows": null,
            "height": null,
            "justify_content": null,
            "justify_items": null,
            "left": null,
            "margin": null,
            "max_height": null,
            "max_width": null,
            "min_height": null,
            "min_width": null,
            "object_fit": null,
            "object_position": null,
            "order": null,
            "overflow": null,
            "overflow_x": null,
            "overflow_y": null,
            "padding": null,
            "right": null,
            "top": null,
            "visibility": null,
            "width": null
          }
        },
        "6f78078a4e904edcac112ef42a7baaca": {
          "model_module": "@jupyter-widgets/controls",
          "model_name": "DescriptionStyleModel",
          "model_module_version": "1.5.0",
          "state": {
            "_model_module": "@jupyter-widgets/controls",
            "_model_module_version": "1.5.0",
            "_model_name": "DescriptionStyleModel",
            "_view_count": null,
            "_view_module": "@jupyter-widgets/base",
            "_view_module_version": "1.2.0",
            "_view_name": "StyleView",
            "description_width": ""
          }
        }
      }
    }
  },
  "cells": [
    {
      "cell_type": "markdown",
      "metadata": {
        "id": "view-in-github",
        "colab_type": "text"
      },
      "source": [
        "<a href=\"https://colab.research.google.com/github/arjan-hada/esm2-antibody-CLIP/blob/main/ESM2AbCLIP_bindaff_pred.ipynb\" target=\"_parent\"><img src=\"https://colab.research.google.com/assets/colab-badge.svg\" alt=\"Open In Colab\"/></a>"
      ]
    },
    {
      "cell_type": "markdown",
      "source": [
        "# The effect of Multimodal Training on Antibody Binding Affinity Prediction\n",
        "\n",
        "In the [previous notebook](https://github.com/arjan-hada/esm2-antibody-CLIP/blob/main/ESM2_Ab_CLIP.ipynb), we developed a multimodal training approach that integrated antibody sequence data with structural data using a contrastive learning framework inspired by OpenAI's CLIP. We utilized the ESM2 model from Facebook's Evolutionary Scale Modeling (ESM) suite as our base architecture. The model was fine-tuned with a custom head for contrastive learning, where the sequence and structural embeddings were projected into a common latent space. Our training process focused on minimizing the contrastive loss to ensure that sequences and their corresponding structures were closely aligned in this space. We called this model ESM2-Ab-CLIP.\n",
        "\n",
        "In this notebook we evaluate the effect of ESM2-Ab-CLIP model on antibody binding affinity prediction task relative to the base ESM2 model. We will examine the impact of finetuning both ESM2-Ab-CLIP and ESM2 models on predicting the binding affinity (Kd) between single-chain variable fragments (scFv) variants and the SARS-CoV-2 peptide. Additionally, we will explore the effect of fine-tuning both models using a subset of the training data."
      ],
      "metadata": {
        "id": "jEHungUSfBi9"
      }
    },
    {
      "cell_type": "markdown",
      "source": [
        "## Setup"
      ],
      "metadata": {
        "id": "W3Xa6Vy0Qttz"
      }
    },
    {
      "cell_type": "code",
      "source": [
        "# Setup block for Colab\n",
        "# Install necessary libraries for the project\n",
        "!pip install python-Levenshtein evaluate datasets transformers accelerate &> /dev/null\n",
        "!apt install git-lfs &> /dev/null"
      ],
      "metadata": {
        "id": "AuozK-Inl5hU"
      },
      "execution_count": null,
      "outputs": []
    },
    {
      "cell_type": "code",
      "source": [
        "# To share your model with the community\n",
        "# First store your authentication token from the Hugging Face website and then execute this cell\n",
        "# Make sure to get token with WRITE access\n",
        "from huggingface_hub import notebook_login\n",
        "\n",
        "notebook_login()"
      ],
      "metadata": {
        "colab": {
          "base_uri": "https://localhost:8080/",
          "height": 145,
          "referenced_widgets": [
            "e465db22b9a74c2dada9e4617314b50a",
            "356789502ac54e84921ea6c1aba24529",
            "a633a0eaaf5e498aa61c8da5b0d2ed92",
            "7694a19a47e443cdba010af33db1b91b",
            "dea950a070724d3cadd225f25996cf0a",
            "67ae70e736284390b5d0b48a9a4cc6fa",
            "bc089226d11c4459a77676d787f26f2d",
            "3984f06652d145c7a7a72d5561949a06",
            "9954e792d7eb40f99c1af252da3b9810",
            "16c5112c6e1041ed9e1bf47983f8426b",
            "d2ca147cc4de4f4abbad66de1087cf59",
            "a5b9af0a2f2340e38ef2aa6519372319",
            "5967b29915b74ef4b04bbb1680a3d1d3",
            "c5b97dad40944f6ab745222e0a8899a5",
            "3c3b1bfdcb9e4e21ab0b75a0307d40b0",
            "14b777ba1672437abcec899fe9bb3d3c",
            "a119038c5f694b83a829d5c64d1e7e9c",
            "35668c00d5c242ba9ec98464ea4394b4",
            "fed17a0063c7488dbca00cdc2c8c0a31",
            "ebbe60fb2bb84b4294fc892045e9b24c",
            "66fc2eecd42845d9ba514a19fb9806c0",
            "50cd9860924744e0b41c2eea2838a7e1",
            "d1df21db2bfd48bfbb6717dade688ba4",
            "daec41ec209349b2a06a9e4a3e22b676",
            "63059d26ea82468cb617750c17cf7edf",
            "f234aeff64934b739409e31c8bcddeae",
            "3d7f663ff7c445e48b2a8c009cd5db8a",
            "1fa764893da94a1095436cb82ed20886",
            "6d77a51e896642a6976fd346176f51fa",
            "a2414000078a42239f64003622f3d5e1",
            "16a0ce3ee43442d5865d579eb807ee90",
            "a325ed5844cf4d82ace5970d9a8d035d"
          ]
        },
        "id": "Jo-woW9ceZSu",
        "outputId": "6abaca7c-6697-4643-d927-d8ece0a6ea8e"
      },
      "execution_count": null,
      "outputs": [
        {
          "output_type": "display_data",
          "data": {
            "text/plain": [
              "VBox(children=(HTML(value='<center> <img\\nsrc=https://huggingface.co/front/assets/huggingface_logo-noborder.sv…"
            ],
            "application/vnd.jupyter.widget-view+json": {
              "version_major": 2,
              "version_minor": 0,
              "model_id": "e465db22b9a74c2dada9e4617314b50a"
            }
          },
          "metadata": {}
        }
      ]
    },
    {
      "cell_type": "code",
      "source": [
        "# Import necessary libraries\n",
        "from pathlib import Path\n",
        "import os\n",
        "from urllib.request import urlretrieve\n",
        "\n",
        "import numpy as np\n",
        "import pandas as pd\n",
        "import matplotlib.pyplot as plt\n",
        "import seaborn as sns\n",
        "from scipy import stats\n",
        "sns.set_context(context=\"paper\", font_scale=1.5)\n",
        "\n",
        "import Levenshtein\n",
        "\n",
        "from torch.utils.data import Dataset, DataLoader, random_split\n",
        "import warnings,transformers,logging,torch\n",
        "from transformers import TrainingArguments,Trainer, set_seed\n",
        "from transformers import AutoModelForSequenceClassification, AutoTokenizer, AutoConfig\n",
        "\n",
        "import datasets\n",
        "from datasets import load_dataset, Dataset, DatasetDict"
      ],
      "metadata": {
        "id": "QsonZAdJRMHf"
      },
      "execution_count": null,
      "outputs": []
    },
    {
      "cell_type": "markdown",
      "source": [
        "## Data loading and processing"
      ],
      "metadata": {
        "id": "yaQlMhTs7Pi3"
      }
    },
    {
      "cell_type": "markdown",
      "source": [
        "We will use a dataset that consists of binding interactions for antibodies against a SARS-CoV-2 peptide detailed in the study \"[Machine learning optimization of candidate antibody yields highly diverse sub-nanomolar affinity antibody libraries](https://www.nature.com/articles/s41467-023-39022-2#data-availability)\". The complete raw dataset was also published separately [here](https://www.nature.com/articles/s41597-022-01779-4) and available for public access at [Zenodo](https://zenodo.org/records/7783546).  The target peptide is a conserved sequence found in the HR2 region of coronavirus spike proteins and to which neutralizing antibodies were previously identified. The full data includes four different libraries of single-chain variable fragments (scFv). In this study we will only use the AA4L49 library for Ab-14 heavy chain sequences.\n",
        "\n",
        "The loading and preprocessing of the data were extensively detailed in our [prior notebooks](https://github.com/arjan-hada/antibody-binding-affinity/tree/main)."
      ],
      "metadata": {
        "id": "i_NHMNysqOTn"
      }
    },
    {
      "cell_type": "code",
      "source": [
        "### Step 1: Define Utility Functions\n",
        "from pathlib import Path\n",
        "from urllib.request import urlretrieve\n",
        "import pandas as pd\n",
        "\n",
        "def download_file(url, path):\n",
        "    \"\"\"Downloads and saves the file only if it does not already exist.\"\"\"\n",
        "    if not path.exists():\n",
        "        urlretrieve(url, path)\n",
        "        print(f\"Downloaded {path}\")\n",
        "    else:\n",
        "        print(f\"File already exists at {path}\")\n",
        "\n",
        "def load_data(paths):\n",
        "    \"\"\"Load data from CSV files into Pandas DataFrames.\"\"\"\n",
        "    return {key: pd.read_csv(path) for key, path in paths.items()}\n",
        "\n",
        "def handle_missing_values(dfs, group_col='mata_description', target_col='pred_aff', filter_nan='drop'):\n",
        "    \"\"\"\n",
        "    Handles missing values in a dictionary of DataFrames by either dropping them or filling them\n",
        "    with the median of groups with less than 3 non-NaN entries. It processes 'train', 'valid',\n",
        "    and 'test' datasets as provided in the dictionary 'dfs'.\n",
        "\n",
        "    Parameters:\n",
        "        dfs (dict): Dictionary containing the dataframes under keys 'train', 'valid', 'test'.\n",
        "        group_col (str): The column to group by.\n",
        "        target_col (str): The column for which the median is calculated.\n",
        "        filter_nan (str): The method to handle NaN values ('drop' or 'median').\n",
        "    \"\"\"\n",
        "    data_all = pd.concat(dfs.values())\n",
        "\n",
        "    # Exclude sequence where all replicates contained NaN in target_col\n",
        "    dfs['test'] = dfs['test'].groupby(group_col).filter(lambda x: x[target_col].notna().sum() > 0)\n",
        "\n",
        "    if filter_nan == 'drop':\n",
        "        for key, df in dfs.items():\n",
        "            dfs[key] = df.dropna(subset=[target_col])\n",
        "    elif filter_nan == 'median':\n",
        "        # Drop NaN values and calculate medians for groups with less than 3 non-NaN entries.\n",
        "        non_nan_data = data_all.dropna(subset=[target_col])\n",
        "        medians = non_nan_data.groupby(group_col).filter(lambda x: len(x) < 3)[target_col].median()\n",
        "\n",
        "        for key, df in dfs.items():\n",
        "            dfs[key][target_col] = df[target_col].fillna(medians)\n",
        "\n",
        "    return dfs\n",
        "\n",
        "def process_replicates(dataframes, group_col='mata_description', target_col='pred_aff'):\n",
        "    \"\"\"Calculate mean of replicates and drop duplicates.\"\"\"\n",
        "    for df in dataframes.values():\n",
        "        df[target_col] = df.groupby(group_col)[target_col].transform('mean')\n",
        "        df.drop_duplicates(subset=[group_col], inplace=True)\n",
        "\n",
        "def add_static_sequences(dataframes, aa_col='aa_seq', left_seq='', right_seq=''):\n",
        "    \"\"\"Add static sequences to amino acid sequences.\"\"\"\n",
        "    for df in dataframes.values():\n",
        "        df['hc'] = left_seq + df[aa_col].astype(str) + right_seq"
      ],
      "metadata": {
        "id": "DY8TwcwWhwg5"
      },
      "execution_count": null,
      "outputs": []
    },
    {
      "cell_type": "code",
      "source": [
        "### Step 2: Setup Paths and URLs\n",
        "urls = {\n",
        "    'train': 'https://raw.githubusercontent.com/AIforGreatGood/biotransfer/main/example_data/covid/replicate_corrected/14H/14H_train.csv',\n",
        "    'valid': 'https://raw.githubusercontent.com/AIforGreatGood/biotransfer/main/example_data/covid/replicate_corrected/14H/14H_valid.csv',\n",
        "    'test': 'https://raw.githubusercontent.com/AIforGreatGood/biotransfer/main/example_data/covid/replicate_corrected/14H/14H_test.csv'\n",
        "}\n",
        "\n",
        "path_data = Path('data')\n",
        "path_data.mkdir(exist_ok=True)\n",
        "paths = {key: path_data / f'14H_{key}.csv' for key in urls}"
      ],
      "metadata": {
        "id": "8qte0eEOiD8_"
      },
      "execution_count": null,
      "outputs": []
    },
    {
      "cell_type": "code",
      "source": [
        "### Step 3: Download and Load Data\n",
        "\n",
        "for key, url in urls.items():\n",
        "    download_file(url, paths[key])\n",
        "\n",
        "df_dict = load_data(paths)"
      ],
      "metadata": {
        "colab": {
          "base_uri": "https://localhost:8080/"
        },
        "id": "r5RnE1HwiMXR",
        "outputId": "92ab83df-fe02-4ff6-9549-b0fde26da177"
      },
      "execution_count": null,
      "outputs": [
        {
          "output_type": "stream",
          "name": "stdout",
          "text": [
            "File already exists at data/14H_train.csv\n",
            "File already exists at data/14H_valid.csv\n",
            "File already exists at data/14H_test.csv\n"
          ]
        }
      ]
    },
    {
      "cell_type": "code",
      "source": [
        "# Information pulled out from paper for reference\n",
        "wt_14VH = 'EVQLVETGGGLVQPGGSLRLSCAASGFTLNSYGISWVRQAPGKGPEWVSVIYSDGRRTFYGDSVKGRFTISRDTSTNTVYLQMNSLRVEDTAVYYCAKGRAAGTFDSWGQGTLVTVSS'\n",
        "static_left = 'EVQLVETGGGLVQPGGSLRLSCAAS'\n",
        "static_right = 'WGQGTLVTVSS'\n",
        "mutation_window = 'GFTLNSYGISWVRQAPGKGPEWVSVIYSDGRRTFYGDSVKGRFTISRDTSTNTVYLQMNSLRVEDTAVYYCAKGRAAGTFDS'"
      ],
      "metadata": {
        "id": "l1fYoEcAZX2x"
      },
      "execution_count": null,
      "outputs": []
    },
    {
      "cell_type": "code",
      "source": [
        "### Step 4: Data Processing\n",
        "import copy\n",
        "# Create deep copies of the DataFrames\n",
        "dfs_copies1 = {key: df.copy() for key, df in df_dict.items()}\n",
        "\n",
        "handle_missing_values(dfs_copies1, filter_nan='drop')\n",
        "add_static_sequences(dfs_copies1, left_seq='EVQLVETGGGLVQPGGSLRLSCAAS', right_seq='WGQGTLVTVSS')\n",
        "\n",
        "# Output processed data\n",
        "for key, df in dfs_copies1.items():\n",
        "    print(f\"Processed data for {key}: {df.shape[0]} entries\")"
      ],
      "metadata": {
        "colab": {
          "base_uri": "https://localhost:8080/"
        },
        "id": "e501xXGXZ-Ws",
        "outputId": "58d09daa-059f-4c8f-f425-bbd89095aa35"
      },
      "execution_count": null,
      "outputs": [
        {
          "output_type": "stream",
          "name": "stdout",
          "text": [
            "Processed data for train: 20547 entries\n",
            "Processed data for valid: 2606 entries\n",
            "Processed data for test: 2576 entries\n"
          ]
        }
      ]
    },
    {
      "cell_type": "code",
      "source": [
        "# Set up the matplotlib figure\n",
        "plt.figure(figsize=(18, 5))\n",
        "\n",
        "for i, (key, df) in enumerate(dfs_copies1.items()):\n",
        "    # First scatter plot:\n",
        "    plt.subplot(1, len(dfs_copies1.items()), i+1)\n",
        "    sns.histplot(df['pred_aff'].values, kde=True)\n",
        "    plt.xlabel('Kd(log10 nM)')\n",
        "    plt.ylabel('Density')\n",
        "    plt.title(f\"{key} set: {df.shape[0]} entries\");"
      ],
      "metadata": {
        "colab": {
          "base_uri": "https://localhost:8080/"
        },
        "id": "iubmeOWlBzrZ",
        "outputId": "173f166d-0644-4911-be02-4293eb7bc34c"
      },
      "execution_count": null,
      "outputs": [
        {
          "output_type": "display_data",
          "data": {
            "text/plain": [
              "<Figure size 1800x500 with 3 Axes>"
            ],
            "image/png": "[encoded data removed]"
          },
          "metadata": {}
        }
      ]
    },
    {
      "cell_type": "markdown",
      "source": [
        "## Training preparation"
      ],
      "metadata": {
        "id": "ZnwqlOc6vgoG"
      }
    },
    {
      "cell_type": "markdown",
      "source": [
        "### Defining the performance metrics"
      ],
      "metadata": {
        "id": "gsC8SDkLDBiR"
      }
    },
    {
      "cell_type": "markdown",
      "source": [
        "Spearman's rank correlation coefficient is typically the go-to metric for checking how well our models perform on experimental data. However, often protein functional property measurements display a bimodal pattern. In those case, rank correlations may not be the optimal choice. Now, let's say we're designing antibodies and we really care about finding the ones with the best binding affinities. It's more important that our model identifies the top performers rather than capture the distribution of the full data. Thus, we also calculate Top K Recall, where K is set to the top 10% of the antibodies with the highest binding affinity (that's the lowest Kd values)."
      ],
      "metadata": {
        "id": "q1FaDCWItvo1"
      }
    },
    {
      "cell_type": "code",
      "source": [
        "def compute_top_10_percent_recall(predictions, labels):\n",
        "    n_top = int(0.1 * len(labels))\n",
        "    top_pred_indices = np.argsort(predictions)[:n_top]\n",
        "    top_label_indices = np.argsort(labels)[:n_top]\n",
        "    recall = len(set(top_pred_indices).intersection(set(top_label_indices))) / n_top\n",
        "\n",
        "    return {\n",
        "        \"top_10_percent_recall\": recall\n",
        "    }\n",
        "\n",
        "\n",
        "from evaluate import load\n",
        "import numpy as np\n",
        "\n",
        "metric_spearmanr = load(\"spearmanr\")\n",
        "\n",
        "def compute_metrics(eval_pred):\n",
        "    \"\"\"\n",
        "    Compute Spearman's rank correlation coefficient and top 10% recall between\n",
        "    the predicted and actual labels.\n",
        "    \"\"\"\n",
        "    predictions, labels = eval_pred\n",
        "    predictions = np.squeeze(predictions)\n",
        "    labels = np.squeeze(labels)\n",
        "    spearmanr_result = metric_spearmanr.compute(predictions=predictions, references=labels)\n",
        "    top_10_percent_recall_result = compute_top_10_percent_recall(predictions, labels)\n",
        "    return {**spearmanr_result, **top_10_percent_recall_result}"
      ],
      "metadata": {
        "id": "82dy8nSUCVfj"
      },
      "execution_count": null,
      "outputs": []
    },
    {
      "cell_type": "markdown",
      "source": [
        "### Tokenizer, Dataset, Trainer\n",
        "\n",
        "For quicker iteration we will create some functions to try different pretrained models and trainer parameters."
      ],
      "metadata": {
        "id": "YokxW6oyDUTX"
      }
    },
    {
      "cell_type": "code",
      "source": [
        "def tok_func(example, tokenizer, inp_col):\n",
        "    \"\"\"\n",
        "    Tokenizes input data using a predefined tokenizer.\n",
        "    `Dataset.map` needs this function.\n",
        "    \"\"\"\n",
        "    # a dictionary containing 'input_ids' and other tensors like 'attention_mask'\n",
        "    return tokenizer(example[inp_col], return_tensors='pt')"
      ],
      "metadata": {
        "id": "6GXQW4_yDcrw"
      },
      "execution_count": null,
      "outputs": []
    },
    {
      "cell_type": "code",
      "source": [
        "def get_tok_dds(df_dict, tokenizer, inp_col, label_col, sample_frac=None):\n",
        "    \"\"\"\n",
        "    Converts a dictionary of pandas DataFrames to a Hugging Face DatasetDict\n",
        "    and tokenizes it. Optionally sample a fraction of train set.\n",
        "    \"\"\"\n",
        "\n",
        "    # convert pandas DataFrames into HuggingFace Datasets\n",
        "    # rename the labels column to what Transformers expects for the dependent variable, which is labels\n",
        "    dds = {}\n",
        "    for key, df in df_dict.items():\n",
        "        ds = Dataset.from_pandas(df).rename_column(label_col, 'labels')\n",
        "        dds[key] = ds\n",
        "\n",
        "    dds = DatasetDict(dds)\n",
        "\n",
        "    # Optionally sample a fraction of the training data\n",
        "    if sample_frac and 'train' in dds:\n",
        "        seed = 42\n",
        "        num_samples = int(sample_frac * len(dds['train']))\n",
        "        dds['train'] = dds['train'].shuffle(seed=seed).select(range(num_samples))\n",
        "\n",
        "    fields = list(dds['train'].column_names)\n",
        "    fields.remove('labels') # list containing the columns we no longer need\n",
        "\n",
        "    # tokenize the input, use batching to speed it up, and remove the columns we no longer need\n",
        "    tok_dds = dds.map(lambda x: tok_func(x, tokenizer, inp_col),\n",
        "                      batched=True,\n",
        "                      remove_columns=fields)\n",
        "    return tok_dds"
      ],
      "metadata": {
        "id": "HEweg3bjDeiu"
      },
      "execution_count": null,
      "outputs": []
    },
    {
      "cell_type": "code",
      "source": [
        "def get_trainer(tok_dds, model, tokenizer, model_name='outputs',\n",
        "                lr=2e-5, bs=32, epochs=5, wd=0.01):\n",
        "    \"\"\"\n",
        "    Returns a Hugging Face Trainer instance with specified training arguments and datasets.\n",
        "    \"\"\"\n",
        "    set_seed(42)\n",
        "    args = TrainingArguments(\n",
        "        output_dir=model_name,\n",
        "        learning_rate=lr,\n",
        "        per_device_train_batch_size=bs,\n",
        "        per_device_eval_batch_size=bs * 2,\n",
        "        num_train_epochs=epochs,\n",
        "        weight_decay=wd,\n",
        "        fp16=True, # much faster on modern GPUs and saves some memory\n",
        "        warmup_ratio=0.1,\n",
        "        lr_scheduler_type=\"cosine\", # cosine scheduler with warmup\n",
        "        evaluation_strategy=\"epoch\",\n",
        "        save_strategy=\"epoch\",\n",
        "        load_best_model_at_end=True,\n",
        "        metric_for_best_model='spearmanr',\n",
        "        greater_is_better=True,\n",
        "        push_to_hub=False,\n",
        "    )\n",
        "    return Trainer(model, args, train_dataset=tok_dds['train'],\n",
        "                   eval_dataset=tok_dds['valid'], tokenizer=tokenizer,\n",
        "                   compute_metrics=compute_metrics)"
      ],
      "metadata": {
        "id": "tNcek4F6DgNW"
      },
      "execution_count": null,
      "outputs": []
    },
    {
      "cell_type": "code",
      "source": [
        "import gc # Python's garbage collection module\n",
        "\n",
        "def clear_memory():\n",
        "    gc.collect() # explicitly triggers garbage collection, free up memory\n",
        "    if torch.cuda.is_available(): torch.cuda.empty_cache() # clears the PyTorch CUDA memory cache"
      ],
      "metadata": {
        "id": "j49_OAHRs1rI"
      },
      "execution_count": null,
      "outputs": []
    },
    {
      "cell_type": "markdown",
      "source": [
        "## Training"
      ],
      "metadata": {
        "id": "gbo0vovAbNx5"
      }
    },
    {
      "cell_type": "markdown",
      "source": [
        "### Training with unimodal ESM2"
      ],
      "metadata": {
        "id": "it5azZBv18Qy"
      }
    },
    {
      "cell_type": "code",
      "source": [
        "clear_memory()\n",
        "\n",
        "model_ckpt = 'facebook/esm2_t6_8M_UR50D'\n",
        "tokz = AutoTokenizer.from_pretrained(model_ckpt)\n",
        "model_esm2 = AutoModelForSequenceClassification.from_pretrained(model_ckpt,\n",
        "                                                           num_labels=1)\n",
        "\n",
        "tok_dds = get_tok_dds(dfs_copies1, tokz, inp_col='hc', label_col='pred_aff')"
      ],
      "metadata": {
        "colab": {
          "base_uri": "https://localhost:8080/",
          "height": 272,
          "referenced_widgets": [
            "1d4c804de8f54aa986451754c1b73983",
            "2ca5f91fb4444a9da1447f1667e8c770",
            "1fade92825d14de89eeac08689c536c4",
            "d40be5ad9f5b410a8b0feb7863ba1021",
            "f190431007d547cfa10b7bcc8b205b52",
            "ae5c02a47e8a4a81b5f3c3c08c49a52b",
            "ebf89451bb1d4c2896fba1ce2498e55d",
            "bb62b15695bd428198cd616bdd93d234",
            "4c306444c6834f96bd6b8de33e35ffaa",
            "f4e70af1ed72445687d74dd0e6999da3",
            "387c7e18b1014c46a2df7452a030e8af",
            "5ab204d5172f4e1fb0d119ad6293185b",
            "fe358aa96fdd4a7bae2c9218772bdeb2",
            "8a0cc05c11f54f8f90cc63edf6926baf",
            "2f040aa2d4d44956928bda86de6b02da",
            "3015eafdddf043209b64a6147e7e4c23",
            "652267afa33b42e2833bb4070dd46e44",
            "740f4c885c5540a3a124353336ee8bbb",
            "c7d99d6f170a45d5bf44299ff5c9a9a8",
            "96634cf7b36245f3a654825d3f73ad5d",
            "982c89cd69b4490d999183ffbd33e3a5",
            "c459b7d26acd4cb8b75cbd58ce35d998",
            "5956c73e092a43bca2fc0c9a24b272e8",
            "b57b04f4405943be94a8ff0eda8e96af",
            "60c7f8da8e15437cb19714863e3702f2",
            "4392df0cee9e4effacb0e43dd592f674",
            "044665c8a2644d3280731465c315614c",
            "d21187a0dfd54a62afebf8c2e915a4b6",
            "a3d82e2c9dd641d28e18d374f6873ef5",
            "cbfa53aeb1c7411f9876a1d8587735b5",
            "c6b48b04c50446788568be980f85c5b7",
            "fdc28470c0b04832b41647fc76fbff48",
            "087a8f6a94874206b27cf19a1fc5fec8"
          ]
        },
        "id": "7MOcB1CjdpkQ",
        "outputId": "1c1a59be-ad38-4374-fdc4-d4935ab59161"
      },
      "execution_count": null,
      "outputs": [
        {
          "output_type": "stream",
          "name": "stderr",
          "text": [
            "/usr/local/lib/python3.10/dist-packages/huggingface_hub/utils/_token.py:89: UserWarning: \n",
            "The secret `HF_TOKEN` does not exist in your Colab secrets.\n",
            "To authenticate with the Hugging Face Hub, create a token in your settings tab (https://huggingface.co/settings/tokens), set it as secret in your Google Colab and restart your session.\n",
            "You will be able to reuse this secret in all of your notebooks.\n",
            "Please note that authentication is recommended but still optional to access public models or datasets.\n",
            "  warnings.warn(\n",
            "Some weights of EsmForSequenceClassification were not initialized from the model checkpoint at facebook/esm2_t6_8M_UR50D and are newly initialized: ['classifier.dense.bias', 'classifier.dense.weight', 'classifier.out_proj.bias', 'classifier.out_proj.weight']\n",
            "You should probably TRAIN this model on a down-stream task to be able to use it for predictions and inference.\n"
          ]
        },
        {
          "output_type": "display_data",
          "data": {
            "text/plain": [
              "Map:   0%|          | 0/20547 [00:00<?, ? examples/s]"
            ],
            "application/vnd.jupyter.widget-view+json": {
              "version_major": 2,
              "version_minor": 0,
              "model_id": "1d4c804de8f54aa986451754c1b73983"
            }
          },
          "metadata": {}
        },
        {
          "output_type": "display_data",
          "data": {
            "text/plain": [
              "Map:   0%|          | 0/2606 [00:00<?, ? examples/s]"
            ],
            "application/vnd.jupyter.widget-view+json": {
              "version_major": 2,
              "version_minor": 0,
              "model_id": "5ab204d5172f4e1fb0d119ad6293185b"
            }
          },
          "metadata": {}
        },
        {
          "output_type": "display_data",
          "data": {
            "text/plain": [
              "Map:   0%|          | 0/2576 [00:00<?, ? examples/s]"
            ],
            "application/vnd.jupyter.widget-view+json": {
              "version_major": 2,
              "version_minor": 0,
              "model_id": "5956c73e092a43bca2fc0c9a24b272e8"
            }
          },
          "metadata": {}
        }
      ]
    },
    {
      "cell_type": "code",
      "source": [
        "model_name = model_ckpt.split(\"/\")[-1]\n",
        "trainer_unimodal = get_trainer(tok_dds, model_esm2, tokz,\n",
        "                      model_name=f\"{model_name}-finetuned-Ab14H-v0\",\n",
        "                      lr=2e-5, bs=32, epochs=5, wd=0.01)\n",
        "trainer_unimodal.train()"
      ],
      "metadata": {
        "colab": {
          "base_uri": "https://localhost:8080/",
          "height": 339
        },
        "id": "nrAjzM4SjHsA",
        "outputId": "795234f2-a2b6-4a72-d743-be6fbdcf035b"
      },
      "execution_count": null,
      "outputs": [
        {
          "output_type": "stream",
          "name": "stderr",
          "text": [
            "/usr/local/lib/python3.10/dist-packages/transformers/training_args.py:1474: FutureWarning: `evaluation_strategy` is deprecated and will be removed in version 4.46 of 🤗 Transformers. Use `eval_strategy` instead\n",
            "  warnings.warn(\n"
          ]
        },
        {
          "output_type": "display_data",
          "data": {
            "text/plain": [
              "<IPython.core.display.HTML object>"
            ],
            "text/html": [
              "\n",
              "    <div>\n",
              "      \n",
              "      <progress value='3215' max='3215' style='width:300px; height:20px; vertical-align: middle;'></progress>\n",
              "      [3215/3215 02:42, Epoch 5/5]\n",
              "    </div>\n",
              "    <table border=\"1\" class=\"dataframe\">\n",
              "  <thead>\n",
              " <tr style=\"text-align: left;\">\n",
              "      <th>Epoch</th>\n",
              "      <th>Training Loss</th>\n",
              "      <th>Validation Loss</th>\n",
              "      <th>Spearmanr</th>\n",
              "      <th>Top 10 Percent Recall</th>\n",
              "    </tr>\n",
              "  </thead>\n",
              "  <tbody>\n",
              "    <tr>\n",
              "      <td>1</td>\n",
              "      <td>7.147900</td>\n",
              "      <td>1.756826</td>\n",
              "      <td>0.597641</td>\n",
              "      <td>0.400000</td>\n",
              "    </tr>\n",
              "    <tr>\n",
              "      <td>2</td>\n",
              "      <td>1.546600</td>\n",
              "      <td>1.321260</td>\n",
              "      <td>0.629228</td>\n",
              "      <td>0.496154</td>\n",
              "    </tr>\n",
              "    <tr>\n",
              "      <td>3</td>\n",
              "      <td>1.315000</td>\n",
              "      <td>1.201363</td>\n",
              "      <td>0.640851</td>\n",
              "      <td>0.561538</td>\n",
              "    </tr>\n",
              "    <tr>\n",
              "      <td>4</td>\n",
              "      <td>1.162600</td>\n",
              "      <td>1.160432</td>\n",
              "      <td>0.648121</td>\n",
              "      <td>0.569231</td>\n",
              "    </tr>\n",
              "    <tr>\n",
              "      <td>5</td>\n",
              "      <td>1.113300</td>\n",
              "      <td>1.156756</td>\n",
              "      <td>0.649478</td>\n",
              "      <td>0.569231</td>\n",
              "    </tr>\n",
              "  </tbody>\n",
              "</table><p>"
            ]
          },
          "metadata": {}
        },
        {
          "output_type": "execute_result",
          "data": {
            "text/plain": [
              "TrainOutput(global_step=3215, training_loss=2.1724496132478373, metrics={'train_runtime': 163.2697, 'train_samples_per_second': 629.235, 'train_steps_per_second': 19.691, 'total_flos': 554884539890400.0, 'train_loss': 2.1724496132478373, 'epoch': 5.0})"
            ]
          },
          "metadata": {},
          "execution_count": 16
        }
      ]
    },
    {
      "cell_type": "markdown",
      "source": [
        "#### Make predictions on the test set"
      ],
      "metadata": {
        "id": "HqnJaQZ1kr_w"
      }
    },
    {
      "cell_type": "code",
      "source": [
        "trainer_unimodal.evaluate(eval_dataset=tok_dds['test'])"
      ],
      "metadata": {
        "colab": {
          "base_uri": "https://localhost:8080/",
          "height": 159
        },
        "id": "qC82I3RUkojP",
        "outputId": "daf63973-e205-464e-baac-2da398a55818"
      },
      "execution_count": null,
      "outputs": [
        {
          "output_type": "display_data",
          "data": {
            "text/plain": [
              "<IPython.core.display.HTML object>"
            ],
            "text/html": [
              "\n",
              "    <div>\n",
              "      \n",
              "      <progress value='41' max='41' style='width:300px; height:20px; vertical-align: middle;'></progress>\n",
              "      [41/41 00:01]\n",
              "    </div>\n",
              "    "
            ]
          },
          "metadata": {}
        },
        {
          "output_type": "execute_result",
          "data": {
            "text/plain": [
              "{'eval_loss': 1.16280198097229,\n",
              " 'eval_spearmanr': 0.625795029502075,\n",
              " 'eval_top_10_percent_recall': 0.4280155642023346,\n",
              " 'eval_runtime': 1.4003,\n",
              " 'eval_samples_per_second': 1839.661,\n",
              " 'eval_steps_per_second': 29.28,\n",
              " 'epoch': 5.0}"
            ]
          },
          "metadata": {},
          "execution_count": 17
        }
      ]
    },
    {
      "cell_type": "markdown",
      "source": [
        "### Training with multimodal ESM2"
      ],
      "metadata": {
        "id": "ffagv6YywCBZ"
      }
    },
    {
      "cell_type": "code",
      "source": [
        "clear_memory()\n",
        "\n",
        "model_ckpt = 'arjan-hada/esm2_t6_8M_UR50D-Ab-CLIP-v0'\n",
        "tokz = AutoTokenizer.from_pretrained(model_ckpt, trust_remote_code=True)\n",
        "model_esm2abclip = AutoModelForSequenceClassification.from_pretrained(model_ckpt,\n",
        "                                                           trust_remote_code=True,\n",
        "                                                           num_labels=1)\n",
        "\n",
        "#tok_dds = get_tok_dds(dfs_copies1, tokz, inp_col='hc', label_col='pred_aff')"
      ],
      "metadata": {
        "colab": {
          "base_uri": "https://localhost:8080/"
        },
        "id": "xJltAp9pId7M",
        "outputId": "b4976e81-3f45-4ca9-da80-f51c6177f43c"
      },
      "execution_count": null,
      "outputs": [
        {
          "output_type": "stream",
          "name": "stderr",
          "text": [
            "Some weights of EsmForSequenceClassification were not initialized from the model checkpoint at arjan-hada/esm2_t6_8M_UR50D-Ab-CLIP-v0 and are newly initialized: ['classifier.dense.bias', 'classifier.dense.weight', 'classifier.out_proj.bias', 'classifier.out_proj.weight']\n",
            "You should probably TRAIN this model on a down-stream task to be able to use it for predictions and inference.\n"
          ]
        }
      ]
    },
    {
      "cell_type": "code",
      "source": [
        "model_name = model_ckpt.split(\"/\")[-1]\n",
        "trainer_multimodal = get_trainer(tok_dds, model_esm2abclip, tokz,\n",
        "                      model_name=f\"{model_name}-finetuned-Ab14H-v0\",\n",
        "                      lr=2e-5, bs=32, epochs=5, wd=0.01)\n",
        "trainer_multimodal.train()"
      ],
      "metadata": {
        "colab": {
          "base_uri": "https://localhost:8080/",
          "height": 339
        },
        "id": "rleHR-zXv4Xe",
        "outputId": "2ade5867-a2ae-405d-9a38-80e2f159bba2"
      },
      "execution_count": null,
      "outputs": [
        {
          "output_type": "stream",
          "name": "stderr",
          "text": [
            "/usr/local/lib/python3.10/dist-packages/transformers/training_args.py:1474: FutureWarning: `evaluation_strategy` is deprecated and will be removed in version 4.46 of 🤗 Transformers. Use `eval_strategy` instead\n",
            "  warnings.warn(\n"
          ]
        },
        {
          "output_type": "display_data",
          "data": {
            "text/plain": [
              "<IPython.core.display.HTML object>"
            ],
            "text/html": [
              "\n",
              "    <div>\n",
              "      \n",
              "      <progress value='3215' max='3215' style='width:300px; height:20px; vertical-align: middle;'></progress>\n",
              "      [3215/3215 02:44, Epoch 5/5]\n",
              "    </div>\n",
              "    <table border=\"1\" class=\"dataframe\">\n",
              "  <thead>\n",
              " <tr style=\"text-align: left;\">\n",
              "      <th>Epoch</th>\n",
              "      <th>Training Loss</th>\n",
              "      <th>Validation Loss</th>\n",
              "      <th>Spearmanr</th>\n",
              "      <th>Top 10 Percent Recall</th>\n",
              "    </tr>\n",
              "  </thead>\n",
              "  <tbody>\n",
              "    <tr>\n",
              "      <td>1</td>\n",
              "      <td>6.894300</td>\n",
              "      <td>1.510001</td>\n",
              "      <td>0.605091</td>\n",
              "      <td>0.476923</td>\n",
              "    </tr>\n",
              "    <tr>\n",
              "      <td>2</td>\n",
              "      <td>1.427400</td>\n",
              "      <td>1.220541</td>\n",
              "      <td>0.630680</td>\n",
              "      <td>0.507692</td>\n",
              "    </tr>\n",
              "    <tr>\n",
              "      <td>3</td>\n",
              "      <td>1.256800</td>\n",
              "      <td>1.214814</td>\n",
              "      <td>0.633759</td>\n",
              "      <td>0.546154</td>\n",
              "    </tr>\n",
              "    <tr>\n",
              "      <td>4</td>\n",
              "      <td>1.151700</td>\n",
              "      <td>1.163884</td>\n",
              "      <td>0.647761</td>\n",
              "      <td>0.538462</td>\n",
              "    </tr>\n",
              "    <tr>\n",
              "      <td>5</td>\n",
              "      <td>1.103000</td>\n",
              "      <td>1.158039</td>\n",
              "      <td>0.649123</td>\n",
              "      <td>0.546154</td>\n",
              "    </tr>\n",
              "  </tbody>\n",
              "</table><p>"
            ]
          },
          "metadata": {}
        },
        {
          "output_type": "execute_result",
          "data": {
            "text/plain": [
              "TrainOutput(global_step=3215, training_loss=2.0987345171938787, metrics={'train_runtime': 164.6981, 'train_samples_per_second': 623.778, 'train_steps_per_second': 19.521, 'total_flos': 554884539890400.0, 'train_loss': 2.0987345171938787, 'epoch': 5.0})"
            ]
          },
          "metadata": {},
          "execution_count": 19
        }
      ]
    },
    {
      "cell_type": "markdown",
      "source": [
        "#### Make predictions on the test set"
      ],
      "metadata": {
        "id": "iyP14DzfkyZi"
      }
    },
    {
      "cell_type": "code",
      "source": [
        "trainer_multimodal.evaluate(eval_dataset=tok_dds['test'])"
      ],
      "metadata": {
        "colab": {
          "base_uri": "https://localhost:8080/",
          "height": 159
        },
        "id": "vrT9YY0lXsxC",
        "outputId": "064c4967-9139-4abd-81fa-3413cbb29c2a"
      },
      "execution_count": null,
      "outputs": [
        {
          "output_type": "display_data",
          "data": {
            "text/plain": [
              "<IPython.core.display.HTML object>"
            ],
            "text/html": [
              "\n",
              "    <div>\n",
              "      \n",
              "      <progress value='41' max='41' style='width:300px; height:20px; vertical-align: middle;'></progress>\n",
              "      [41/41 00:01]\n",
              "    </div>\n",
              "    "
            ]
          },
          "metadata": {}
        },
        {
          "output_type": "execute_result",
          "data": {
            "text/plain": [
              "{'eval_loss': 1.1816487312316895,\n",
              " 'eval_spearmanr': 0.6215401899000643,\n",
              " 'eval_top_10_percent_recall': 0.43190661478599224,\n",
              " 'eval_runtime': 1.3903,\n",
              " 'eval_samples_per_second': 1852.857,\n",
              " 'eval_steps_per_second': 29.49,\n",
              " 'epoch': 5.0}"
            ]
          },
          "metadata": {},
          "execution_count": 20
        }
      ]
    },
    {
      "cell_type": "markdown",
      "source": [
        "## Training - low data regime"
      ],
      "metadata": {
        "id": "6X-3G2K3lFjK"
      }
    },
    {
      "cell_type": "markdown",
      "source": [
        "### Training with unimodal ESM2"
      ],
      "metadata": {
        "id": "FPgI8TGKlFjU"
      }
    },
    {
      "cell_type": "code",
      "source": [
        "clear_memory()\n",
        "\n",
        "model_ckpt = 'facebook/esm2_t6_8M_UR50D'\n",
        "tokz = AutoTokenizer.from_pretrained(model_ckpt)\n",
        "model_esm2 = AutoModelForSequenceClassification.from_pretrained(model_ckpt,\n",
        "                                                           num_labels=1)\n",
        "tok_dds_subset = get_tok_dds(dfs_copies1, tokz, inp_col='hc',\n",
        "                             label_col='pred_aff', sample_frac=0.2)"
      ],
      "metadata": {
        "colab": {
          "base_uri": "https://localhost:8080/",
          "height": 168,
          "referenced_widgets": [
            "4c67e19671764a99aefaca00a16b2092",
            "cf46b48db9444b94a954ac062dc30f68",
            "d5d4bb43eb554408971819f42d382cbd",
            "5c52d2b80dae4d27956fdec7af8df0cb",
            "fd80cc2659064dedb2375fc8aff17282",
            "89d96e0290b54a36aabe4c492770137a",
            "4c21f3dfa04c4422ba329110c0476789",
            "38e444dcdd4b42c691709c8649761648",
            "1d0b94a9d8734584a26d1909446f1f4d",
            "27192ea5bba3440bb1116aa2865bcc07",
            "d342ff7670a44604b50b5b4e55c3e0ff",
            "7412b1fc8e494b788e71907e7a628345",
            "48bd47a0417f46f8b875b68b71e9fac2",
            "a6d95a512fb7490e948af6b6a727a7d2",
            "435aaf78ce2e461d905791f069b03af7",
            "d94ec3c695224fc99b1f736a4adeaa75",
            "ca5404cbf5614e34b8cbd30401fffc87",
            "382bec59836d4108b4ab66c1d7aa5d7f",
            "ad1b81a3aae84730966dfcaf20c257f9",
            "da6da2cb05d5487e9eed40abb0790546",
            "3c0cdc57796a479f963b6ead2dc1a483",
            "284355998672407ead987a1991de392d",
            "15221d788b424b1cb0e99ac1087dea77",
            "e3b066cdb4974f789cefbe1214a2789b",
            "fe845cd28fc74fdd86cba1353bad9e95",
            "ab6f1158d774428c8156fd2e8c6316be",
            "e90db41c1a9c47e997a0faac9d4b26f2",
            "876918dfad364c6b99fc2d8f44a6b308",
            "5b7498da35a24191974fa55c07f3fadc",
            "9fb11ea9095842b7ba16c59481901eef",
            "dd3d02a8aeb64dd6825ccddc176346f0",
            "d7868a5111b945ad9b8991d9e9d94823",
            "6f78078a4e904edcac112ef42a7baaca"
          ]
        },
        "outputId": "69ddc61d-c9c1-4375-cfe6-2dcfcd283679",
        "id": "z0UwU30IlFjU"
      },
      "execution_count": null,
      "outputs": [
        {
          "output_type": "stream",
          "name": "stderr",
          "text": [
            "Some weights of EsmForSequenceClassification were not initialized from the model checkpoint at facebook/esm2_t6_8M_UR50D and are newly initialized: ['classifier.dense.bias', 'classifier.dense.weight', 'classifier.out_proj.bias', 'classifier.out_proj.weight']\n",
            "You should probably TRAIN this model on a down-stream task to be able to use it for predictions and inference.\n"
          ]
        },
        {
          "output_type": "display_data",
          "data": {
            "text/plain": [
              "Map:   0%|          | 0/4109 [00:00<?, ? examples/s]"
            ],
            "application/vnd.jupyter.widget-view+json": {
              "version_major": 2,
              "version_minor": 0,
              "model_id": "4c67e19671764a99aefaca00a16b2092"
            }
          },
          "metadata": {}
        },
        {
          "output_type": "display_data",
          "data": {
            "text/plain": [
              "Map:   0%|          | 0/2606 [00:00<?, ? examples/s]"
            ],
            "application/vnd.jupyter.widget-view+json": {
              "version_major": 2,
              "version_minor": 0,
              "model_id": "7412b1fc8e494b788e71907e7a628345"
            }
          },
          "metadata": {}
        },
        {
          "output_type": "display_data",
          "data": {
            "text/plain": [
              "Map:   0%|          | 0/2576 [00:00<?, ? examples/s]"
            ],
            "application/vnd.jupyter.widget-view+json": {
              "version_major": 2,
              "version_minor": 0,
              "model_id": "15221d788b424b1cb0e99ac1087dea77"
            }
          },
          "metadata": {}
        }
      ]
    },
    {
      "cell_type": "code",
      "source": [
        "model_name = model_ckpt.split(\"/\")[-1]\n",
        "trainer_unimodal = get_trainer(tok_dds_subset, model_esm2, tokz,\n",
        "                      model_name=f\"{model_name}-lowN-finetuned-Ab14H-v0\",\n",
        "                      lr=2e-5, bs=32, epochs=5, wd=0.01)\n",
        "trainer_unimodal.train()"
      ],
      "metadata": {
        "colab": {
          "base_uri": "https://localhost:8080/",
          "height": 339
        },
        "outputId": "2c5b0776-1621-42a7-9246-13b393a36a98",
        "id": "VmzXFFIhlFjV"
      },
      "execution_count": null,
      "outputs": [
        {
          "output_type": "stream",
          "name": "stderr",
          "text": [
            "/usr/local/lib/python3.10/dist-packages/transformers/training_args.py:1474: FutureWarning: `evaluation_strategy` is deprecated and will be removed in version 4.46 of 🤗 Transformers. Use `eval_strategy` instead\n",
            "  warnings.warn(\n"
          ]
        },
        {
          "output_type": "display_data",
          "data": {
            "text/plain": [
              "<IPython.core.display.HTML object>"
            ],
            "text/html": [
              "\n",
              "    <div>\n",
              "      \n",
              "      <progress value='645' max='645' style='width:300px; height:20px; vertical-align: middle;'></progress>\n",
              "      [645/645 00:37, Epoch 5/5]\n",
              "    </div>\n",
              "    <table border=\"1\" class=\"dataframe\">\n",
              "  <thead>\n",
              " <tr style=\"text-align: left;\">\n",
              "      <th>Epoch</th>\n",
              "      <th>Training Loss</th>\n",
              "      <th>Validation Loss</th>\n",
              "      <th>Spearmanr</th>\n",
              "      <th>Top 10 Percent Recall</th>\n",
              "    </tr>\n",
              "  </thead>\n",
              "  <tbody>\n",
              "    <tr>\n",
              "      <td>1</td>\n",
              "      <td>No log</td>\n",
              "      <td>5.469185</td>\n",
              "      <td>-0.240215</td>\n",
              "      <td>0.015385</td>\n",
              "    </tr>\n",
              "    <tr>\n",
              "      <td>2</td>\n",
              "      <td>No log</td>\n",
              "      <td>2.228081</td>\n",
              "      <td>0.027751</td>\n",
              "      <td>0.076923</td>\n",
              "    </tr>\n",
              "    <tr>\n",
              "      <td>3</td>\n",
              "      <td>No log</td>\n",
              "      <td>2.175814</td>\n",
              "      <td>0.464888</td>\n",
              "      <td>0.311538</td>\n",
              "    </tr>\n",
              "    <tr>\n",
              "      <td>4</td>\n",
              "      <td>4.792500</td>\n",
              "      <td>1.806858</td>\n",
              "      <td>0.491790</td>\n",
              "      <td>0.296154</td>\n",
              "    </tr>\n",
              "    <tr>\n",
              "      <td>5</td>\n",
              "      <td>4.792500</td>\n",
              "      <td>1.735150</td>\n",
              "      <td>0.517917</td>\n",
              "      <td>0.296154</td>\n",
              "    </tr>\n",
              "  </tbody>\n",
              "</table><p>"
            ]
          },
          "metadata": {}
        },
        {
          "output_type": "execute_result",
          "data": {
            "text/plain": [
              "TrainOutput(global_step=645, training_loss=4.10658758592236, metrics={'train_runtime': 37.4536, 'train_samples_per_second': 548.546, 'train_steps_per_second': 17.221, 'total_flos': 110966105728800.0, 'train_loss': 4.10658758592236, 'epoch': 5.0})"
            ]
          },
          "metadata": {},
          "execution_count": 40
        }
      ]
    },
    {
      "cell_type": "markdown",
      "source": [
        "#### Make predictions on the test set"
      ],
      "metadata": {
        "id": "DWlc9aqJlFjV"
      }
    },
    {
      "cell_type": "code",
      "source": [
        "trainer_unimodal.evaluate(eval_dataset=tok_dds_subset['test'])"
      ],
      "metadata": {
        "colab": {
          "base_uri": "https://localhost:8080/",
          "height": 159
        },
        "id": "tujLyQ18lFjV",
        "outputId": "842cae40-1cf6-4e25-863b-d7b03d8aa7c2"
      },
      "execution_count": null,
      "outputs": [
        {
          "output_type": "display_data",
          "data": {
            "text/plain": [
              "<IPython.core.display.HTML object>"
            ],
            "text/html": [
              "\n",
              "    <div>\n",
              "      \n",
              "      <progress value='41' max='41' style='width:300px; height:20px; vertical-align: middle;'></progress>\n",
              "      [41/41 00:01]\n",
              "    </div>\n",
              "    "
            ]
          },
          "metadata": {}
        },
        {
          "output_type": "execute_result",
          "data": {
            "text/plain": [
              "{'eval_loss': 1.6362602710723877,\n",
              " 'eval_spearmanr': 0.5145669325048389,\n",
              " 'eval_top_10_percent_recall': 0.2529182879377432,\n",
              " 'eval_runtime': 1.3942,\n",
              " 'eval_samples_per_second': 1847.672,\n",
              " 'eval_steps_per_second': 29.408,\n",
              " 'epoch': 5.0}"
            ]
          },
          "metadata": {},
          "execution_count": 41
        }
      ]
    },
    {
      "cell_type": "markdown",
      "source": [
        "### Training with multimodal ESM2"
      ],
      "metadata": {
        "id": "fSP7YUNIlFjV"
      }
    },
    {
      "cell_type": "code",
      "source": [
        "clear_memory()\n",
        "\n",
        "model_ckpt = 'arjan-hada/esm2_t6_8M_UR50D-Ab-CLIP-v0'\n",
        "tokz = AutoTokenizer.from_pretrained(model_ckpt, trust_remote_code=True)\n",
        "model_esm2abclip = AutoModelForSequenceClassification.from_pretrained(model_ckpt,\n",
        "                                                           trust_remote_code=True,\n",
        "                                                           num_labels=1)"
      ],
      "metadata": {
        "colab": {
          "base_uri": "https://localhost:8080/"
        },
        "outputId": "668a4626-499d-4df2-da2e-938d54670e35",
        "id": "DcQT_EVqlFjV"
      },
      "execution_count": null,
      "outputs": [
        {
          "output_type": "stream",
          "name": "stderr",
          "text": [
            "Some weights of EsmForSequenceClassification were not initialized from the model checkpoint at arjan-hada/esm2_t6_8M_UR50D-Ab-CLIP-v0 and are newly initialized: ['classifier.dense.bias', 'classifier.dense.weight', 'classifier.out_proj.bias', 'classifier.out_proj.weight']\n",
            "You should probably TRAIN this model on a down-stream task to be able to use it for predictions and inference.\n"
          ]
        }
      ]
    },
    {
      "cell_type": "code",
      "source": [
        "model_name = model_ckpt.split(\"/\")[-1]\n",
        "trainer_multimodal = get_trainer(tok_dds_subset, model_esm2abclip, tokz,\n",
        "                      model_name=f\"{model_name}-lowN-finetuned-Ab14H-v0\",\n",
        "                      lr=2e-5, bs=32, epochs=5, wd=0.01)\n",
        "trainer_multimodal.train()"
      ],
      "metadata": {
        "colab": {
          "base_uri": "https://localhost:8080/",
          "height": 339
        },
        "outputId": "abd1ccaf-b90b-40b1-a7c3-5e489f494f24",
        "id": "Zz7aQDyHlFjV"
      },
      "execution_count": null,
      "outputs": [
        {
          "output_type": "stream",
          "name": "stderr",
          "text": [
            "/usr/local/lib/python3.10/dist-packages/transformers/training_args.py:1474: FutureWarning: `evaluation_strategy` is deprecated and will be removed in version 4.46 of 🤗 Transformers. Use `eval_strategy` instead\n",
            "  warnings.warn(\n"
          ]
        },
        {
          "output_type": "display_data",
          "data": {
            "text/plain": [
              "<IPython.core.display.HTML object>"
            ],
            "text/html": [
              "\n",
              "    <div>\n",
              "      \n",
              "      <progress value='645' max='645' style='width:300px; height:20px; vertical-align: middle;'></progress>\n",
              "      [645/645 00:37, Epoch 5/5]\n",
              "    </div>\n",
              "    <table border=\"1\" class=\"dataframe\">\n",
              "  <thead>\n",
              " <tr style=\"text-align: left;\">\n",
              "      <th>Epoch</th>\n",
              "      <th>Training Loss</th>\n",
              "      <th>Validation Loss</th>\n",
              "      <th>Spearmanr</th>\n",
              "      <th>Top 10 Percent Recall</th>\n",
              "    </tr>\n",
              "  </thead>\n",
              "  <tbody>\n",
              "    <tr>\n",
              "      <td>1</td>\n",
              "      <td>No log</td>\n",
              "      <td>5.453973</td>\n",
              "      <td>-0.168063</td>\n",
              "      <td>0.053846</td>\n",
              "    </tr>\n",
              "    <tr>\n",
              "      <td>2</td>\n",
              "      <td>No log</td>\n",
              "      <td>2.207200</td>\n",
              "      <td>-0.013941</td>\n",
              "      <td>0.115385</td>\n",
              "    </tr>\n",
              "    <tr>\n",
              "      <td>3</td>\n",
              "      <td>No log</td>\n",
              "      <td>1.847664</td>\n",
              "      <td>0.503607</td>\n",
              "      <td>0.238462</td>\n",
              "    </tr>\n",
              "    <tr>\n",
              "      <td>4</td>\n",
              "      <td>4.609300</td>\n",
              "      <td>1.740718</td>\n",
              "      <td>0.514373</td>\n",
              "      <td>0.330769</td>\n",
              "    </tr>\n",
              "    <tr>\n",
              "      <td>5</td>\n",
              "      <td>4.609300</td>\n",
              "      <td>1.585742</td>\n",
              "      <td>0.556669</td>\n",
              "      <td>0.334615</td>\n",
              "    </tr>\n",
              "  </tbody>\n",
              "</table><p>"
            ]
          },
          "metadata": {}
        },
        {
          "output_type": "execute_result",
          "data": {
            "text/plain": [
              "TrainOutput(global_step=645, training_loss=3.9201309795527495, metrics={'train_runtime': 37.4338, 'train_samples_per_second': 548.835, 'train_steps_per_second': 17.23, 'total_flos': 110966105728800.0, 'train_loss': 3.9201309795527495, 'epoch': 5.0})"
            ]
          },
          "metadata": {},
          "execution_count": 43
        }
      ]
    },
    {
      "cell_type": "markdown",
      "source": [
        "#### Make predictions on the test set"
      ],
      "metadata": {
        "id": "2E0qOhFmlFjW"
      }
    },
    {
      "cell_type": "code",
      "source": [
        "trainer_multimodal.evaluate(eval_dataset=tok_dds_subset['test'])"
      ],
      "metadata": {
        "colab": {
          "base_uri": "https://localhost:8080/",
          "height": 159
        },
        "outputId": "4ed2c5b9-027f-47db-c4b6-3c141308e0eb",
        "id": "toKyAbAGlFjW"
      },
      "execution_count": null,
      "outputs": [
        {
          "output_type": "display_data",
          "data": {
            "text/plain": [
              "<IPython.core.display.HTML object>"
            ],
            "text/html": [
              "\n",
              "    <div>\n",
              "      \n",
              "      <progress value='41' max='41' style='width:300px; height:20px; vertical-align: middle;'></progress>\n",
              "      [41/41 00:01]\n",
              "    </div>\n",
              "    "
            ]
          },
          "metadata": {}
        },
        {
          "output_type": "execute_result",
          "data": {
            "text/plain": [
              "{'eval_loss': 1.5373492240905762,\n",
              " 'eval_spearmanr': 0.5379863820425924,\n",
              " 'eval_top_10_percent_recall': 0.3035019455252918,\n",
              " 'eval_runtime': 1.3763,\n",
              " 'eval_samples_per_second': 1871.617,\n",
              " 'eval_steps_per_second': 29.789,\n",
              " 'epoch': 5.0}"
            ]
          },
          "metadata": {},
          "execution_count": 44
        }
      ]
    },
    {
      "cell_type": "markdown",
      "source": [
        "## Conclusion\n",
        "\n",
        "In this study, we evaluated the downstream effect of multimodal training on the ESM2 model using the CLIP procedure, resulting in the ESM2AbCLIP model. Our primary focus was on predicting the binding affinity (Kd) between single-chain variable fragments (scFv) variants and the SARS-CoV-2 peptide.\n",
        "\n",
        "When fine-tuned on the full training dataset containing 20,547 entries, the performance of the ESM2AbCLIP model was comparable to that of the base ESM2 model. Specifically, the Spearman's rho and top 10% recall on the test set were nearly identical: `eval_spearmanr`: 0.6215 for ESM2AbCLIP versus 0.6258 for ESM2, and `eval_top_10_percent_recall`: 0.4319 for ESM2AbCLIP versus 0.4280 for ESM2. This suggests that with ample data for fine-tuning, the additional benefits of multimodal training may not be as pronounced.\n",
        "\n",
        "Interestingly, both models exceeded the Spearman's rho (~0.50) reported in the [original study](https://www.nature.com/articles/s41467-023-39022-2), showcasing the robustness of our approach.\n",
        "\n",
        "However, the true strength of the ESM2AbCLIP model emerged under a low data regime (20% of the training set). In this scenario, the ESM2AbCLIP model significantly outperformed the base ESM2 model, achieving an `eval_spearmanr` of 0.5380 compared to 0.5146, and an `eval_top_10_percent_recall` of 0.3035 compared to 0.2529. This highlights the advantage of integrating sequence and structural data through multimodal training, especially when data is limited."
      ],
      "metadata": {
        "id": "Z3U3vxk0hwDw"
      }
    }
  ]
}